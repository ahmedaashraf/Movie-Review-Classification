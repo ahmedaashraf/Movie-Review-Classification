{
  "nbformat": 4,
  "nbformat_minor": 0,
  "metadata": {
    "colab": {
      "name": "MovieReviewClassification.ipynb",
      "provenance": [],
      "collapsed_sections": [],
      "authorship_tag": "ABX9TyMlDN5XMh/miIn7fDyKxnDl",
      "include_colab_link": true
    },
    "kernelspec": {
      "name": "python3",
      "display_name": "Python 3"
    }
  },
  "cells": [
    {
      "cell_type": "markdown",
      "metadata": {
        "id": "view-in-github",
        "colab_type": "text"
      },
      "source": [
        "<a href=\"https://colab.research.google.com/github/ahmedaashraf/Movie-Review-Classification/blob/master/MovieReviewClassification.ipynb\" target=\"_parent\"><img src=\"https://colab.research.google.com/assets/colab-badge.svg\" alt=\"Open In Colab\"/></a>"
      ]
    },
    {
      "cell_type": "code",
      "metadata": {
        "id": "e4TM5MQxvgDj",
        "colab_type": "code",
        "outputId": "fe17e8db-7e48-42a2-99ad-543c81dc7f12",
        "colab": {
          "base_uri": "https://localhost:8080/",
          "height": 717
        }
      },
      "source": [
        "!pip install tensorflow"
      ],
      "execution_count": 1,
      "outputs": [
        {
          "output_type": "stream",
          "text": [
            "Requirement already satisfied: tensorflow in /usr/local/lib/python3.6/dist-packages (2.2.0)\n",
            "Requirement already satisfied: grpcio>=1.8.6 in /usr/local/lib/python3.6/dist-packages (from tensorflow) (1.29.0)\n",
            "Requirement already satisfied: scipy==1.4.1; python_version >= \"3\" in /usr/local/lib/python3.6/dist-packages (from tensorflow) (1.4.1)\n",
            "Requirement already satisfied: opt-einsum>=2.3.2 in /usr/local/lib/python3.6/dist-packages (from tensorflow) (3.2.1)\n",
            "Requirement already satisfied: protobuf>=3.8.0 in /usr/local/lib/python3.6/dist-packages (from tensorflow) (3.10.0)\n",
            "Requirement already satisfied: absl-py>=0.7.0 in /usr/local/lib/python3.6/dist-packages (from tensorflow) (0.9.0)\n",
            "Requirement already satisfied: google-pasta>=0.1.8 in /usr/local/lib/python3.6/dist-packages (from tensorflow) (0.2.0)\n",
            "Requirement already satisfied: gast==0.3.3 in /usr/local/lib/python3.6/dist-packages (from tensorflow) (0.3.3)\n",
            "Requirement already satisfied: six>=1.12.0 in /usr/local/lib/python3.6/dist-packages (from tensorflow) (1.12.0)\n",
            "Requirement already satisfied: tensorboard<2.3.0,>=2.2.0 in /usr/local/lib/python3.6/dist-packages (from tensorflow) (2.2.2)\n",
            "Requirement already satisfied: keras-preprocessing>=1.1.0 in /usr/local/lib/python3.6/dist-packages (from tensorflow) (1.1.2)\n",
            "Requirement already satisfied: astunparse==1.6.3 in /usr/local/lib/python3.6/dist-packages (from tensorflow) (1.6.3)\n",
            "Requirement already satisfied: wheel>=0.26; python_version >= \"3\" in /usr/local/lib/python3.6/dist-packages (from tensorflow) (0.34.2)\n",
            "Requirement already satisfied: wrapt>=1.11.1 in /usr/local/lib/python3.6/dist-packages (from tensorflow) (1.12.1)\n",
            "Requirement already satisfied: tensorflow-estimator<2.3.0,>=2.2.0 in /usr/local/lib/python3.6/dist-packages (from tensorflow) (2.2.0)\n",
            "Requirement already satisfied: h5py<2.11.0,>=2.10.0 in /usr/local/lib/python3.6/dist-packages (from tensorflow) (2.10.0)\n",
            "Requirement already satisfied: numpy<2.0,>=1.16.0 in /usr/local/lib/python3.6/dist-packages (from tensorflow) (1.18.5)\n",
            "Requirement already satisfied: termcolor>=1.1.0 in /usr/local/lib/python3.6/dist-packages (from tensorflow) (1.1.0)\n",
            "Requirement already satisfied: setuptools in /usr/local/lib/python3.6/dist-packages (from protobuf>=3.8.0->tensorflow) (47.1.1)\n",
            "Requirement already satisfied: google-auth-oauthlib<0.5,>=0.4.1 in /usr/local/lib/python3.6/dist-packages (from tensorboard<2.3.0,>=2.2.0->tensorflow) (0.4.1)\n",
            "Requirement already satisfied: markdown>=2.6.8 in /usr/local/lib/python3.6/dist-packages (from tensorboard<2.3.0,>=2.2.0->tensorflow) (3.2.2)\n",
            "Requirement already satisfied: requests<3,>=2.21.0 in /usr/local/lib/python3.6/dist-packages (from tensorboard<2.3.0,>=2.2.0->tensorflow) (2.23.0)\n",
            "Requirement already satisfied: tensorboard-plugin-wit>=1.6.0 in /usr/local/lib/python3.6/dist-packages (from tensorboard<2.3.0,>=2.2.0->tensorflow) (1.6.0.post3)\n",
            "Requirement already satisfied: werkzeug>=0.11.15 in /usr/local/lib/python3.6/dist-packages (from tensorboard<2.3.0,>=2.2.0->tensorflow) (1.0.1)\n",
            "Requirement already satisfied: google-auth<2,>=1.6.3 in /usr/local/lib/python3.6/dist-packages (from tensorboard<2.3.0,>=2.2.0->tensorflow) (1.7.2)\n",
            "Requirement already satisfied: requests-oauthlib>=0.7.0 in /usr/local/lib/python3.6/dist-packages (from google-auth-oauthlib<0.5,>=0.4.1->tensorboard<2.3.0,>=2.2.0->tensorflow) (1.3.0)\n",
            "Requirement already satisfied: importlib-metadata; python_version < \"3.8\" in /usr/local/lib/python3.6/dist-packages (from markdown>=2.6.8->tensorboard<2.3.0,>=2.2.0->tensorflow) (1.6.0)\n",
            "Requirement already satisfied: chardet<4,>=3.0.2 in /usr/local/lib/python3.6/dist-packages (from requests<3,>=2.21.0->tensorboard<2.3.0,>=2.2.0->tensorflow) (3.0.4)\n",
            "Requirement already satisfied: urllib3!=1.25.0,!=1.25.1,<1.26,>=1.21.1 in /usr/local/lib/python3.6/dist-packages (from requests<3,>=2.21.0->tensorboard<2.3.0,>=2.2.0->tensorflow) (1.24.3)\n",
            "Requirement already satisfied: certifi>=2017.4.17 in /usr/local/lib/python3.6/dist-packages (from requests<3,>=2.21.0->tensorboard<2.3.0,>=2.2.0->tensorflow) (2020.4.5.1)\n",
            "Requirement already satisfied: idna<3,>=2.5 in /usr/local/lib/python3.6/dist-packages (from requests<3,>=2.21.0->tensorboard<2.3.0,>=2.2.0->tensorflow) (2.9)\n",
            "Requirement already satisfied: pyasn1-modules>=0.2.1 in /usr/local/lib/python3.6/dist-packages (from google-auth<2,>=1.6.3->tensorboard<2.3.0,>=2.2.0->tensorflow) (0.2.8)\n",
            "Requirement already satisfied: cachetools<3.2,>=2.0.0 in /usr/local/lib/python3.6/dist-packages (from google-auth<2,>=1.6.3->tensorboard<2.3.0,>=2.2.0->tensorflow) (3.1.1)\n",
            "Requirement already satisfied: rsa<4.1,>=3.1.4 in /usr/local/lib/python3.6/dist-packages (from google-auth<2,>=1.6.3->tensorboard<2.3.0,>=2.2.0->tensorflow) (4.0)\n",
            "Requirement already satisfied: oauthlib>=3.0.0 in /usr/local/lib/python3.6/dist-packages (from requests-oauthlib>=0.7.0->google-auth-oauthlib<0.5,>=0.4.1->tensorboard<2.3.0,>=2.2.0->tensorflow) (3.1.0)\n",
            "Requirement already satisfied: zipp>=0.5 in /usr/local/lib/python3.6/dist-packages (from importlib-metadata; python_version < \"3.8\"->markdown>=2.6.8->tensorboard<2.3.0,>=2.2.0->tensorflow) (3.1.0)\n",
            "Requirement already satisfied: pyasn1<0.5.0,>=0.4.6 in /usr/local/lib/python3.6/dist-packages (from pyasn1-modules>=0.2.1->google-auth<2,>=1.6.3->tensorboard<2.3.0,>=2.2.0->tensorflow) (0.4.8)\n"
          ],
          "name": "stdout"
        }
      ]
    },
    {
      "cell_type": "code",
      "metadata": {
        "id": "s5gbTYgBv7Sz",
        "colab_type": "code",
        "outputId": "b4f8b544-e609-43e5-b679-5ef7e78ad850",
        "colab": {
          "base_uri": "https://localhost:8080/",
          "height": 35
        }
      },
      "source": [
        "from tensorflow import keras\n",
        "from keras.datasets import imdb\n",
        "import numpy as np\n",
        "\n",
        "(X_train,y_train) , (X_test,y_test)  = imdb.load_data (num_words=10000)\n",
        "\n"
      ],
      "execution_count": 2,
      "outputs": [
        {
          "output_type": "stream",
          "text": [
            "Using TensorFlow backend.\n"
          ],
          "name": "stderr"
        }
      ]
    },
    {
      "cell_type": "code",
      "metadata": {
        "id": "KtmnyEVJPEeA",
        "colab_type": "code",
        "outputId": "90933581-ec73-4312-915e-55e2bb5cb199",
        "colab": {
          "base_uri": "https://localhost:8080/",
          "height": 35
        }
      },
      "source": [
        "X_train.shape"
      ],
      "execution_count": 3,
      "outputs": [
        {
          "output_type": "execute_result",
          "data": {
            "text/plain": [
              "(25000,)"
            ]
          },
          "metadata": {
            "tags": []
          },
          "execution_count": 3
        }
      ]
    },
    {
      "cell_type": "code",
      "metadata": {
        "id": "9RW-jaRzIpeN",
        "colab_type": "code",
        "colab": {}
      },
      "source": [
        "from sklearn.model_selection import train_test_split\n",
        "\n",
        "features = np.concatenate((X_train,X_test),axis=0)\n",
        "label = np.concatenate((y_train,y_test),axis=0)\n",
        "\n",
        "features_train, features_test, label_train, label_test = train_test_split(features, label, test_size=0.2, random_state=42)\n"
      ],
      "execution_count": 0,
      "outputs": []
    },
    {
      "cell_type": "code",
      "metadata": {
        "id": "sAORDZ83Ply4",
        "colab_type": "code",
        "outputId": "ec4a3826-0664-4341-d0a4-714f0491d0d6",
        "colab": {
          "base_uri": "https://localhost:8080/",
          "height": 35
        }
      },
      "source": [
        "features.shape"
      ],
      "execution_count": 5,
      "outputs": [
        {
          "output_type": "execute_result",
          "data": {
            "text/plain": [
              "(50000,)"
            ]
          },
          "metadata": {
            "tags": []
          },
          "execution_count": 5
        }
      ]
    },
    {
      "cell_type": "code",
      "metadata": {
        "id": "F5UdUN0Yzs7Y",
        "colab_type": "code",
        "outputId": "7431ee34-2ada-4638-f20e-f9810aee32b8",
        "colab": {
          "base_uri": "https://localhost:8080/",
          "height": 92
        }
      },
      "source": [
        "print (features[0])\n",
        "\n",
        "print (len(features[0]))\n",
        "print (len(features[1]))\n",
        "\n",
        "# Checking out the data\n",
        "# the size of each sample is different so padding \n",
        "# will be performed by adding a dumy word to the text\n",
        "\n",
        " # word index returnes the number corresponds to the word word_imdex[\"the\"] = #\n",
        "word_index = imdb.get_word_index()\n",
        " # the following transforms  {'a': 0 , 'b' : 1} tp {0:'a' , 1:'b'}\n",
        "\n",
        "valkey_reverse = dict((value, key) for key, value in word_index.items())\n",
        "\n",
        "def decode(review):  # This function transforms the numeric list into the actual review\n",
        "    text = ' '\n",
        "    text = text.join(valkey_reverse[i] for i in review if i!=0) # remove 0\n",
        "    return text"
      ],
      "execution_count": 6,
      "outputs": [
        {
          "output_type": "stream",
          "text": [
            "[1, 14, 22, 16, 43, 530, 973, 1622, 1385, 65, 458, 4468, 66, 3941, 4, 173, 36, 256, 5, 25, 100, 43, 838, 112, 50, 670, 2, 9, 35, 480, 284, 5, 150, 4, 172, 112, 167, 2, 336, 385, 39, 4, 172, 4536, 1111, 17, 546, 38, 13, 447, 4, 192, 50, 16, 6, 147, 2025, 19, 14, 22, 4, 1920, 4613, 469, 4, 22, 71, 87, 12, 16, 43, 530, 38, 76, 15, 13, 1247, 4, 22, 17, 515, 17, 12, 16, 626, 18, 2, 5, 62, 386, 12, 8, 316, 8, 106, 5, 4, 2223, 5244, 16, 480, 66, 3785, 33, 4, 130, 12, 16, 38, 619, 5, 25, 124, 51, 36, 135, 48, 25, 1415, 33, 6, 22, 12, 215, 28, 77, 52, 5, 14, 407, 16, 82, 2, 8, 4, 107, 117, 5952, 15, 256, 4, 2, 7, 3766, 5, 723, 36, 71, 43, 530, 476, 26, 400, 317, 46, 7, 4, 2, 1029, 13, 104, 88, 4, 381, 15, 297, 98, 32, 2071, 56, 26, 141, 6, 194, 7486, 18, 4, 226, 22, 21, 134, 476, 26, 480, 5, 144, 30, 5535, 18, 51, 36, 28, 224, 92, 25, 104, 4, 226, 65, 16, 38, 1334, 88, 12, 16, 283, 5, 16, 4472, 113, 103, 32, 15, 16, 5345, 19, 178, 32]\n",
            "218\n",
            "189\n"
          ],
          "name": "stdout"
        }
      ]
    },
    {
      "cell_type": "code",
      "metadata": {
        "id": "K4J-xUjF0w7A",
        "colab_type": "code",
        "outputId": "cf05b2bd-624f-439c-be39-1bedaa15c82f",
        "colab": {
          "base_uri": "https://localhost:8080/",
          "height": 92
        }
      },
      "source": [
        "from keras.preprocessing.sequence import pad_sequences\n",
        "features = pad_sequences(features, padding = 'post', maxlen = 256)\n",
        "features_train = pad_sequences(features_train, padding = 'post', maxlen = 256)\n",
        "features_test = pad_sequences(features_test, padding = 'post', maxlen = 256)\n",
        "\n",
        "print(len(features_train[0]))\n",
        "print (len(features_test[0]))\n",
        "decode (features[0])\n"
      ],
      "execution_count": 7,
      "outputs": [
        {
          "output_type": "stream",
          "text": [
            "256\n",
            "256\n"
          ],
          "name": "stdout"
        },
        {
          "output_type": "execute_result",
          "data": {
            "text/plain": [
              "\"the as you with out themselves powerful lets loves their becomes reaching had journalist of lot from anyone to have after out atmosphere never more room and it so heart shows to years of every never going and help moments or of every chest visual movie except her was several of enough more with is now current film as you of mine potentially unfortunately of you than him that with out themselves her get for was camp of you movie sometimes movie that with scary but and to story wonderful that in seeing in character to of 70s musicians with heart had shadows they of here that with her serious to have does when from why what have critics they is you that isn't one will very to as itself with other and in of seen over landed for anyone of and br show's to whether from than out themselves history he name half some br of and odd was two most of mean for 1 any an boat she he should is thought frog but of script you not while history he heart to real at barrel but when from one bit then have two of script their with her nobody most that with wasn't to with armed acting watch an for with heartfelt film want an\""
            ]
          },
          "metadata": {
            "tags": []
          },
          "execution_count": 7
        }
      ]
    },
    {
      "cell_type": "code",
      "metadata": {
        "id": "AM17r_MAVpRK",
        "colab_type": "code",
        "outputId": "f0a0a0bb-8f5a-4a02-c30c-69ddec251eeb",
        "colab": {
          "base_uri": "https://localhost:8080/",
          "height": 55
        }
      },
      "source": [
        "decode(features[15])"
      ],
      "execution_count": 8,
      "outputs": [
        {
          "output_type": "execute_result",
          "data": {
            "text/plain": [
              "\"the is rate hope br my out double this is again overwhelming country known portrayed desperation memories is sissy teaches anyway standard planet poem late applaud to performance not his there's is carrey and just being film jerry in jerry baby occupied to murders this is and to have into one as fall issues but is on was had can't is dark some br of needed based just table and incarnation of little with barely may prepare to country presentation don't plot and he 12 in could is blow opportunity lie wood are is late helps ii wanted not nothing from lost and i'm and jenny as with keep but and sinking that effects just is remember b was off use of and merely spacey this of ultimate old\""
            ]
          },
          "metadata": {
            "tags": []
          },
          "execution_count": 8
        }
      ]
    },
    {
      "cell_type": "code",
      "metadata": {
        "id": "LqgIPAQJ1Zrm",
        "colab_type": "code",
        "colab": {}
      },
      "source": [
        "# identify the model's characterstics\n",
        "\n",
        "activation1 = 'relu'\n",
        "activation2 = 'sigmoid'\n",
        "activation3 = 'softmax'\n",
        "optimizer_ = 'adam'\n",
        "loss_ = 'binary_crossentropy'\n",
        "\n",
        "from keras.models import Sequential\n",
        "from keras.layers import Embedding , Dense , GlobalAveragePooling1D , Dropout , Flatten\n",
        "from keras.metrics import Recall , Precision\n",
        "from keras import regularizers\n",
        "from sklearn.model_selection import StratifiedKFold # using cross-validation to avoid overfitting\n",
        "import pandas as pd\n"
      ],
      "execution_count": 0,
      "outputs": []
    },
    {
      "cell_type": "code",
      "metadata": {
        "id": "0edO6qh16T5z",
        "colab_type": "code",
        "outputId": "e7a08e34-e3b1-41b9-feda-ddae561f823c",
        "colab": {
          "base_uri": "https://localhost:8080/",
          "height": 384
        }
      },
      "source": [
        "model = Sequential([\n",
        "    \n",
        "    Embedding(10000,16, activity_regularizer= regularizers.l1(1e-5)),\n",
        "    GlobalAveragePooling1D(),\n",
        "    Dense(16,activation=activation1 ,activity_regularizer=regularizers.l1(1e-5)),\n",
        "    Dropout(0.5),\n",
        "    Dense(16,activation=activation1),\n",
        "    Dense(1,activation=activation2),\n",
        "\n",
        "])\n",
        "\n",
        "model.compile(\n",
        "    \n",
        "    optimizer=optimizer_,\n",
        "    loss = loss_,\n",
        "    metrics = ['acc']\n",
        "\n",
        ")\n",
        "\n",
        "model.summary()\n",
        "\n",
        "\n",
        "\n"
      ],
      "execution_count": 12,
      "outputs": [
        {
          "output_type": "stream",
          "text": [
            "Model: \"sequential_1\"\n",
            "_________________________________________________________________\n",
            "Layer (type)                 Output Shape              Param #   \n",
            "=================================================================\n",
            "embedding_1 (Embedding)      (None, None, 16)          160000    \n",
            "_________________________________________________________________\n",
            "global_average_pooling1d_1 ( (None, 16)                0         \n",
            "_________________________________________________________________\n",
            "dense_1 (Dense)              (None, 16)                272       \n",
            "_________________________________________________________________\n",
            "dropout_1 (Dropout)          (None, 16)                0         \n",
            "_________________________________________________________________\n",
            "dense_2 (Dense)              (None, 16)                272       \n",
            "_________________________________________________________________\n",
            "dense_3 (Dense)              (None, 1)                 17        \n",
            "=================================================================\n",
            "Total params: 160,561\n",
            "Trainable params: 160,561\n",
            "Non-trainable params: 0\n",
            "_________________________________________________________________\n"
          ],
          "name": "stdout"
        }
      ]
    },
    {
      "cell_type": "code",
      "metadata": {
        "id": "dnUAolktL6GB",
        "colab_type": "code",
        "outputId": "afb7a4a4-0a83-4fad-a4b2-462628fd9ed3",
        "colab": {
          "base_uri": "https://localhost:8080/",
          "height": 1000
        }
      },
      "source": [
        "import matplotlib.pyplot as plt\n",
        "from sklearn import metrics\n",
        "%matplotlib inline\n",
        "\n",
        "fold_num = 4\n",
        "\n",
        "skf = StratifiedKFold(fold_num, shuffle=True, random_state=42) \n",
        "fold = 0\n",
        "\n",
        "accu = []\n",
        "\n",
        "\n",
        "for train, test in skf.split(features_train,label_train,groups=None):  \n",
        "    fold+=1\n",
        "    print(f\"Fold #{fold}\")\n",
        "        \n",
        "    features_train_ = features_train[train]\n",
        "    label_train_ = label_train[train]\n",
        "    features_test_ = features_train[test]\n",
        "    label_test_ = label_train[test]\n",
        "\n",
        "    \n",
        "    E = 20\n",
        "    h = model.fit(\n",
        "        features_train_, label_train_,\n",
        "        validation_data=(features_test_,label_test_),\n",
        "        epochs = E,\n",
        "    )\n",
        "\n",
        "    accu.append(h.history['val_acc'])\n",
        "\n",
        "    plt.plot(range(E), h.history['acc'], label = 'Training')\n",
        "    plt.plot(range(E), h.history['val_acc'], label = 'Validation')\n",
        "    plt.legend()\n",
        "    plt.show()"
      ],
      "execution_count": 13,
      "outputs": [
        {
          "output_type": "stream",
          "text": [
            "Fold #1\n"
          ],
          "name": "stdout"
        },
        {
          "output_type": "stream",
          "text": [
            "/usr/local/lib/python3.6/dist-packages/tensorflow/python/framework/indexed_slices.py:434: UserWarning: Converting sparse IndexedSlices to a dense Tensor of unknown shape. This may consume a large amount of memory.\n",
            "  \"Converting sparse IndexedSlices to a dense Tensor of unknown shape. \"\n"
          ],
          "name": "stderr"
        },
        {
          "output_type": "stream",
          "text": [
            "Train on 30000 samples, validate on 10000 samples\n",
            "Epoch 1/20\n",
            "30000/30000 [==============================] - 6s 188us/step - loss: 0.5419 - acc: 0.7078 - val_loss: 0.3199 - val_acc: 0.8797\n",
            "Epoch 2/20\n",
            "30000/30000 [==============================] - 5s 170us/step - loss: 0.2983 - acc: 0.9003 - val_loss: 0.3123 - val_acc: 0.8845\n",
            "Epoch 3/20\n",
            "30000/30000 [==============================] - 5s 172us/step - loss: 0.2485 - acc: 0.9225 - val_loss: 0.3408 - val_acc: 0.8822\n",
            "Epoch 4/20\n",
            "30000/30000 [==============================] - 5s 170us/step - loss: 0.2205 - acc: 0.9344 - val_loss: 0.3444 - val_acc: 0.8810\n",
            "Epoch 5/20\n",
            "30000/30000 [==============================] - 5s 171us/step - loss: 0.2017 - acc: 0.9416 - val_loss: 0.3815 - val_acc: 0.8752\n",
            "Epoch 6/20\n",
            "30000/30000 [==============================] - 5s 171us/step - loss: 0.1893 - acc: 0.9449 - val_loss: 0.3812 - val_acc: 0.8755\n",
            "Epoch 7/20\n",
            "30000/30000 [==============================] - 5s 178us/step - loss: 0.1702 - acc: 0.9522 - val_loss: 0.4091 - val_acc: 0.8726\n",
            "Epoch 8/20\n",
            "30000/30000 [==============================] - 5s 174us/step - loss: 0.1606 - acc: 0.9558 - val_loss: 0.4273 - val_acc: 0.8706\n",
            "Epoch 9/20\n",
            "30000/30000 [==============================] - 5s 172us/step - loss: 0.1532 - acc: 0.9579 - val_loss: 0.5027 - val_acc: 0.8683\n",
            "Epoch 10/20\n",
            "30000/30000 [==============================] - 5s 171us/step - loss: 0.1431 - acc: 0.9609 - val_loss: 0.5218 - val_acc: 0.8640\n",
            "Epoch 11/20\n",
            "30000/30000 [==============================] - 5s 171us/step - loss: 0.1370 - acc: 0.9630 - val_loss: 0.5423 - val_acc: 0.8681\n",
            "Epoch 12/20\n",
            "30000/30000 [==============================] - 5s 173us/step - loss: 0.1343 - acc: 0.9636 - val_loss: 0.5419 - val_acc: 0.8634\n",
            "Epoch 13/20\n",
            "30000/30000 [==============================] - 5s 171us/step - loss: 0.1310 - acc: 0.9649 - val_loss: 0.5678 - val_acc: 0.8651\n",
            "Epoch 14/20\n",
            "30000/30000 [==============================] - 5s 170us/step - loss: 0.1243 - acc: 0.9665 - val_loss: 0.6032 - val_acc: 0.8502\n",
            "Epoch 15/20\n",
            "30000/30000 [==============================] - 5s 183us/step - loss: 0.1243 - acc: 0.9655 - val_loss: 0.6421 - val_acc: 0.8643\n",
            "Epoch 16/20\n",
            "30000/30000 [==============================] - 5s 180us/step - loss: 0.1195 - acc: 0.9689 - val_loss: 0.6622 - val_acc: 0.8643\n",
            "Epoch 17/20\n",
            "30000/30000 [==============================] - 5s 171us/step - loss: 0.1173 - acc: 0.9703 - val_loss: 0.7085 - val_acc: 0.8623\n",
            "Epoch 18/20\n",
            "30000/30000 [==============================] - 5s 176us/step - loss: 0.1204 - acc: 0.9676 - val_loss: 0.6754 - val_acc: 0.8636\n",
            "Epoch 19/20\n",
            "30000/30000 [==============================] - 5s 167us/step - loss: 0.1157 - acc: 0.9706 - val_loss: 0.7290 - val_acc: 0.8644\n",
            "Epoch 20/20\n",
            "30000/30000 [==============================] - 5s 172us/step - loss: 0.1111 - acc: 0.9720 - val_loss: 0.6673 - val_acc: 0.8629\n"
          ],
          "name": "stdout"
        },
        {
          "output_type": "display_data",
          "data": {
            "image/png": "[encoded data removed]",
            "text/plain": [
              "<Figure size 432x288 with 1 Axes>"
            ]
          },
          "metadata": {
            "tags": [],
            "needs_background": "light"
          }
        },
        {
          "output_type": "stream",
          "text": [
            "Fold #2\n",
            "Train on 30000 samples, validate on 10000 samples\n",
            "Epoch 1/20\n",
            "30000/30000 [==============================] - 5s 170us/step - loss: 0.2535 - acc: 0.9310 - val_loss: 0.1276 - val_acc: 0.9758\n",
            "Epoch 2/20\n",
            "30000/30000 [==============================] - 5s 165us/step - loss: 0.2057 - acc: 0.9433 - val_loss: 0.1366 - val_acc: 0.9631\n",
            "Epoch 3/20\n",
            "30000/30000 [==============================] - 5s 173us/step - loss: 0.1877 - acc: 0.9488 - val_loss: 0.1365 - val_acc: 0.9620\n",
            "Epoch 4/20\n",
            "30000/30000 [==============================] - 5s 172us/step - loss: 0.1755 - acc: 0.9510 - val_loss: 0.1513 - val_acc: 0.9536\n",
            "Epoch 5/20\n",
            "30000/30000 [==============================] - 5s 176us/step - loss: 0.1646 - acc: 0.9554 - val_loss: 0.1747 - val_acc: 0.9445\n",
            "Epoch 6/20\n",
            "30000/30000 [==============================] - 5s 169us/step - loss: 0.1561 - acc: 0.9576 - val_loss: 0.1866 - val_acc: 0.9394\n",
            "Epoch 7/20\n",
            "30000/30000 [==============================] - 5s 172us/step - loss: 0.1482 - acc: 0.9598 - val_loss: 0.2012 - val_acc: 0.9378\n",
            "Epoch 8/20\n",
            "30000/30000 [==============================] - 5s 169us/step - loss: 0.1420 - acc: 0.9612 - val_loss: 0.2118 - val_acc: 0.9303\n",
            "Epoch 9/20\n",
            "30000/30000 [==============================] - 5s 178us/step - loss: 0.1410 - acc: 0.9603 - val_loss: 0.2545 - val_acc: 0.9254\n",
            "Epoch 10/20\n",
            "30000/30000 [==============================] - 5s 169us/step - loss: 0.1381 - acc: 0.9613 - val_loss: 0.2540 - val_acc: 0.9237\n",
            "Epoch 11/20\n",
            "30000/30000 [==============================] - 5s 170us/step - loss: 0.1371 - acc: 0.9611 - val_loss: 0.2874 - val_acc: 0.9156\n",
            "Epoch 12/20\n",
            "30000/30000 [==============================] - 5s 167us/step - loss: 0.1346 - acc: 0.9621 - val_loss: 0.2811 - val_acc: 0.9188\n",
            "Epoch 13/20\n",
            "30000/30000 [==============================] - 5s 176us/step - loss: 0.1269 - acc: 0.9659 - val_loss: 0.2883 - val_acc: 0.9169\n",
            "Epoch 14/20\n",
            "30000/30000 [==============================] - 5s 166us/step - loss: 0.1241 - acc: 0.9663 - val_loss: 0.3285 - val_acc: 0.9100\n",
            "Epoch 15/20\n",
            "30000/30000 [==============================] - 5s 172us/step - loss: 0.1227 - acc: 0.9676 - val_loss: 0.3490 - val_acc: 0.8872\n",
            "Epoch 16/20\n",
            "30000/30000 [==============================] - 5s 166us/step - loss: 0.1216 - acc: 0.9680 - val_loss: 0.3174 - val_acc: 0.9114\n",
            "Epoch 17/20\n",
            "30000/30000 [==============================] - 5s 171us/step - loss: 0.1180 - acc: 0.9687 - val_loss: 0.3572 - val_acc: 0.9112\n",
            "Epoch 18/20\n",
            "30000/30000 [==============================] - 5s 167us/step - loss: 0.1209 - acc: 0.9679 - val_loss: 0.3594 - val_acc: 0.9064\n",
            "Epoch 19/20\n",
            "30000/30000 [==============================] - 5s 176us/step - loss: 0.1167 - acc: 0.9695 - val_loss: 0.3712 - val_acc: 0.9092\n",
            "Epoch 20/20\n",
            "30000/30000 [==============================] - 5s 172us/step - loss: 0.1147 - acc: 0.9706 - val_loss: 0.3936 - val_acc: 0.8966\n"
          ],
          "name": "stdout"
        },
        {
          "output_type": "display_data",
          "data": {
            "image/png": "[encoded data removed]",
            "text/plain": [
              "<Figure size 432x288 with 1 Axes>"
            ]
          },
          "metadata": {
            "tags": [],
            "needs_background": "light"
          }
        },
        {
          "output_type": "stream",
          "text": [
            "Fold #3\n",
            "Train on 30000 samples, validate on 10000 samples\n",
            "Epoch 1/20\n",
            "30000/30000 [==============================] - 5s 170us/step - loss: 0.2011 - acc: 0.9412 - val_loss: 0.0960 - val_acc: 0.9794\n",
            "Epoch 2/20\n",
            "30000/30000 [==============================] - 5s 171us/step - loss: 0.1644 - acc: 0.9526 - val_loss: 0.1073 - val_acc: 0.9774\n",
            "Epoch 3/20\n",
            "30000/30000 [==============================] - 5s 170us/step - loss: 0.1525 - acc: 0.9549 - val_loss: 0.1160 - val_acc: 0.9703\n",
            "Epoch 4/20\n",
            "30000/30000 [==============================] - 5s 165us/step - loss: 0.1447 - acc: 0.9577 - val_loss: 0.1223 - val_acc: 0.9653\n",
            "Epoch 5/20\n",
            "30000/30000 [==============================] - 5s 167us/step - loss: 0.1348 - acc: 0.9613 - val_loss: 0.1332 - val_acc: 0.9630\n",
            "Epoch 6/20\n",
            "30000/30000 [==============================] - 5s 166us/step - loss: 0.1330 - acc: 0.9611 - val_loss: 0.1474 - val_acc: 0.9587\n",
            "Epoch 7/20\n",
            "30000/30000 [==============================] - 5s 175us/step - loss: 0.1292 - acc: 0.9630 - val_loss: 0.1462 - val_acc: 0.9579\n",
            "Epoch 8/20\n",
            "30000/30000 [==============================] - 5s 170us/step - loss: 0.1269 - acc: 0.9635 - val_loss: 0.1817 - val_acc: 0.9479\n",
            "Epoch 9/20\n",
            "30000/30000 [==============================] - 5s 170us/step - loss: 0.1222 - acc: 0.9650 - val_loss: 0.1832 - val_acc: 0.9515\n",
            "Epoch 10/20\n",
            "30000/30000 [==============================] - 5s 170us/step - loss: 0.1221 - acc: 0.9657 - val_loss: 0.1857 - val_acc: 0.9461\n",
            "Epoch 11/20\n",
            "30000/30000 [==============================] - 5s 168us/step - loss: 0.1193 - acc: 0.9670 - val_loss: 0.1942 - val_acc: 0.9460\n",
            "Epoch 12/20\n",
            "30000/30000 [==============================] - 5s 169us/step - loss: 0.1176 - acc: 0.9670 - val_loss: 0.2595 - val_acc: 0.9156\n",
            "Epoch 13/20\n",
            "30000/30000 [==============================] - 5s 165us/step - loss: 0.1177 - acc: 0.9669 - val_loss: 0.2208 - val_acc: 0.9367\n",
            "Epoch 14/20\n",
            "30000/30000 [==============================] - 5s 172us/step - loss: 0.1157 - acc: 0.9674 - val_loss: 0.2741 - val_acc: 0.9311\n",
            "Epoch 15/20\n",
            "30000/30000 [==============================] - 5s 166us/step - loss: 0.1133 - acc: 0.9689 - val_loss: 0.2478 - val_acc: 0.9335\n",
            "Epoch 16/20\n",
            "30000/30000 [==============================] - 5s 171us/step - loss: 0.1147 - acc: 0.9678 - val_loss: 0.2566 - val_acc: 0.9337\n",
            "Epoch 17/20\n",
            "30000/30000 [==============================] - 5s 177us/step - loss: 0.1119 - acc: 0.9697 - val_loss: 0.2769 - val_acc: 0.9317\n",
            "Epoch 18/20\n",
            "30000/30000 [==============================] - 5s 181us/step - loss: 0.1110 - acc: 0.9690 - val_loss: 0.2931 - val_acc: 0.9316\n",
            "Epoch 19/20\n",
            "30000/30000 [==============================] - 5s 169us/step - loss: 0.1099 - acc: 0.9700 - val_loss: 0.2991 - val_acc: 0.9312\n",
            "Epoch 20/20\n",
            "30000/30000 [==============================] - 5s 169us/step - loss: 0.1062 - acc: 0.9708 - val_loss: 0.3341 - val_acc: 0.9229\n"
          ],
          "name": "stdout"
        },
        {
          "output_type": "display_data",
          "data": {
            "image/png": "[encoded data removed]",
            "text/plain": [
              "<Figure size 432x288 with 1 Axes>"
            ]
          },
          "metadata": {
            "tags": [],
            "needs_background": "light"
          }
        },
        {
          "output_type": "stream",
          "text": [
            "Fold #4\n",
            "Train on 30000 samples, validate on 10000 samples\n",
            "Epoch 1/20\n",
            "30000/30000 [==============================] - 5s 164us/step - loss: 0.1794 - acc: 0.9482 - val_loss: 0.1173 - val_acc: 0.9692\n",
            "Epoch 2/20\n",
            "30000/30000 [==============================] - 5s 170us/step - loss: 0.1462 - acc: 0.9568 - val_loss: 0.0959 - val_acc: 0.9790\n",
            "Epoch 3/20\n",
            "30000/30000 [==============================] - 5s 171us/step - loss: 0.1339 - acc: 0.9611 - val_loss: 0.1000 - val_acc: 0.9753\n",
            "Epoch 4/20\n",
            "30000/30000 [==============================] - 5s 168us/step - loss: 0.1276 - acc: 0.9628 - val_loss: 0.1187 - val_acc: 0.9701\n",
            "Epoch 5/20\n",
            "30000/30000 [==============================] - 5s 172us/step - loss: 0.1245 - acc: 0.9621 - val_loss: 0.1175 - val_acc: 0.9690\n",
            "Epoch 6/20\n",
            "30000/30000 [==============================] - 5s 170us/step - loss: 0.1211 - acc: 0.9643 - val_loss: 0.1218 - val_acc: 0.9663\n",
            "Epoch 7/20\n",
            "30000/30000 [==============================] - 5s 168us/step - loss: 0.1177 - acc: 0.9650 - val_loss: 0.1417 - val_acc: 0.9619\n",
            "Epoch 8/20\n",
            "30000/30000 [==============================] - 5s 170us/step - loss: 0.1169 - acc: 0.9658 - val_loss: 0.1614 - val_acc: 0.9513\n",
            "Epoch 9/20\n",
            "30000/30000 [==============================] - 5s 173us/step - loss: 0.1191 - acc: 0.9652 - val_loss: 0.1547 - val_acc: 0.9567\n",
            "Epoch 10/20\n",
            "30000/30000 [==============================] - 5s 176us/step - loss: 0.1134 - acc: 0.9663 - val_loss: 0.1948 - val_acc: 0.9382\n",
            "Epoch 11/20\n",
            "30000/30000 [==============================] - 5s 165us/step - loss: 0.1143 - acc: 0.9673 - val_loss: 0.1822 - val_acc: 0.9473\n",
            "Epoch 12/20\n",
            "30000/30000 [==============================] - 5s 173us/step - loss: 0.1110 - acc: 0.9678 - val_loss: 0.1964 - val_acc: 0.9462\n",
            "Epoch 13/20\n",
            "30000/30000 [==============================] - 5s 171us/step - loss: 0.1095 - acc: 0.9686 - val_loss: 0.2333 - val_acc: 0.9350\n",
            "Epoch 14/20\n",
            "30000/30000 [==============================] - 5s 167us/step - loss: 0.1130 - acc: 0.9675 - val_loss: 0.1958 - val_acc: 0.9474\n",
            "Epoch 15/20\n",
            "30000/30000 [==============================] - 6s 187us/step - loss: 0.1095 - acc: 0.9688 - val_loss: 0.2374 - val_acc: 0.9326\n",
            "Epoch 16/20\n",
            "30000/30000 [==============================] - 5s 180us/step - loss: 0.1095 - acc: 0.9684 - val_loss: 0.2214 - val_acc: 0.9427\n",
            "Epoch 17/20\n",
            "30000/30000 [==============================] - 5s 166us/step - loss: 0.1069 - acc: 0.9705 - val_loss: 0.2282 - val_acc: 0.9440\n",
            "Epoch 18/20\n",
            "30000/30000 [==============================] - 5s 163us/step - loss: 0.1048 - acc: 0.9710 - val_loss: 0.2536 - val_acc: 0.9289\n",
            "Epoch 19/20\n",
            "30000/30000 [==============================] - 5s 164us/step - loss: 0.1058 - acc: 0.9704 - val_loss: 0.2425 - val_acc: 0.9403\n",
            "Epoch 20/20\n",
            "30000/30000 [==============================] - 5s 167us/step - loss: 0.1047 - acc: 0.9708 - val_loss: 0.2848 - val_acc: 0.9390\n"
          ],
          "name": "stdout"
        },
        {
          "output_type": "display_data",
          "data": {
            "image/png": "[encoded data removed]",
            "text/plain": [
              "<Figure size 432x288 with 1 Axes>"
            ]
          },
          "metadata": {
            "tags": [],
            "needs_background": "light"
          }
        }
      ]
    },
    {
      "cell_type": "code",
      "metadata": {
        "id": "SEQtFQC7UZH3",
        "colab_type": "code",
        "colab": {
          "base_uri": "https://localhost:8080/",
          "height": 35
        },
        "outputId": "cc77cdcb-2e10-42fc-a23c-90d96624ab08"
      },
      "source": [
        "len = 0\n",
        "sum = 0.0\n",
        "for i in accu:\n",
        "  sum += i[0]\n",
        "  len+=1\n",
        "\n",
        "print(\"{} Fold Accuracy : \".format(fold_num) , sum/len)\n",
        "\n"
      ],
      "execution_count": 14,
      "outputs": [
        {
          "output_type": "stream",
          "text": [
            "4 Fold Accuracy :  0.9510249942541122\n"
          ],
          "name": "stdout"
        }
      ]
    },
    {
      "cell_type": "code",
      "metadata": {
        "id": "QGBCbjARoHGP",
        "colab_type": "code",
        "outputId": "3c6a5ee5-4680-470a-950c-fa0b8645693a",
        "colab": {
          "base_uri": "https://localhost:8080/",
          "height": 54
        }
      },
      "source": [
        "loss, acc = model.evaluate(features_test, label_test)\n",
        "print('Test set accuracy: ', acc * 100)"
      ],
      "execution_count": 15,
      "outputs": [
        {
          "output_type": "stream",
          "text": [
            "10000/10000 [==============================] - 0s 40us/step\n",
            "Test set accuracy:  86.72999739646912\n"
          ],
          "name": "stdout"
        }
      ]
    },
    {
      "cell_type": "code",
      "metadata": {
        "id": "wTfW3mZ3Ybw6",
        "colab_type": "code",
        "colab": {
          "base_uri": "https://localhost:8080/",
          "height": 478
        },
        "outputId": "8a97f411-8047-40f2-a3b3-fa37a5845e12"
      },
      "source": [
        "def encode (review):\n",
        "  new_review = []\n",
        "  for i in review:\n",
        "    new_review.append(word_index[i])\n",
        "  return new_review\n",
        "\n",
        "new_rev = \"sad\"\n",
        "test = encode(new_rev.split())\n",
        "test2 = np.array(test)\n",
        "tryf = decode(features[99])\n",
        "print(test)\n",
        "print(tryf)\n",
        "\n",
        "prediction = model.predict(test)\n",
        "\n",
        "print(prediction.shape)\n",
        "\n",
        "print (features[0])\n",
        "print(max(prediction))\n",
        "print(label[0])"
      ],
      "execution_count": 38,
      "outputs": [
        {
          "output_type": "stream",
          "text": [
            "[616]\n",
            "the ex turner hit could fact characters how br an of powerful with time enjoy but as on of see highly lot with of baby stereotypes lock fun or babes of ride and as characters there even interest opening is road and in is fact on even without even love to even brought other is road and grandmother and it is very shows not all it her generation to sweet this as for if serious more than is again hour for than absolutely in at makes where's of listen fact must characters to even by mediocre this of night was between for as on with hair appeared to was nothing political clearly to station that me will decide in 16 captured killed can as on what have couldn't was these does when have off performance porn series of see roles br piece like story same as on which trapped hero to exactly as it in have ex turner known minutes fact characters as on find lucky few just previously respective achieved\n",
            "(1, 1)\n",
            "[   1   14   22   16   43  530  973 1622 1385   65  458 4468   66 3941\n",
            "    4  173   36  256    5   25  100   43  838  112   50  670    2    9\n",
            "   35  480  284    5  150    4  172  112  167    2  336  385   39    4\n",
            "  172 4536 1111   17  546   38   13  447    4  192   50   16    6  147\n",
            " 2025   19   14   22    4 1920 4613  469    4   22   71   87   12   16\n",
            "   43  530   38   76   15   13 1247    4   22   17  515   17   12   16\n",
            "  626   18    2    5   62  386   12    8  316    8  106    5    4 2223\n",
            " 5244   16  480   66 3785   33    4  130   12   16   38  619    5   25\n",
            "  124   51   36  135   48   25 1415   33    6   22   12  215   28   77\n",
            "   52    5   14  407   16   82    2    8    4  107  117 5952   15  256\n",
            "    4    2    7 3766    5  723   36   71   43  530  476   26  400  317\n",
            "   46    7    4    2 1029   13  104   88    4  381   15  297   98   32\n",
            " 2071   56   26  141    6  194 7486   18    4  226   22   21  134  476\n",
            "   26  480    5  144   30 5535   18   51   36   28  224   92   25  104\n",
            "    4  226   65   16   38 1334   88   12   16  283    5   16 4472  113\n",
            "  103   32   15   16 5345   19  178   32    0    0    0    0    0    0\n",
            "    0    0    0    0    0    0    0    0    0    0    0    0    0    0\n",
            "    0    0    0    0    0    0    0    0    0    0    0    0    0    0\n",
            "    0    0    0    0]\n",
            "[0.]\n",
            "1\n"
          ],
          "name": "stdout"
        }
      ]
    },
    {
      "cell_type": "code",
      "metadata": {
        "id": "3O4sh47IoHGL",
        "colab_type": "code",
        "colab": {}
      },
      "source": [
        "\n",
        "\n"
      ],
      "execution_count": 0,
      "outputs": []
    },
    {
      "cell_type": "code",
      "metadata": {
        "id": "FC-UA0M2ZYkw",
        "colab_type": "code",
        "colab": {}
      },
      "source": [
        ""
      ],
      "execution_count": 0,
      "outputs": []
    },
    {
      "cell_type": "code",
      "metadata": {
        "id": "nyce54YPoHGX",
        "colab_type": "code",
        "colab": {}
      },
      "source": [
        "\n"
      ],
      "execution_count": 0,
      "outputs": []
    }
  ]
}