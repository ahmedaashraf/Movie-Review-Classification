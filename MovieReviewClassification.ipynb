{
  "nbformat": 4,
  "nbformat_minor": 0,
  "metadata": {
    "colab": {
      "name": "MovieReviewClassification.ipynb",
      "provenance": [],
      "collapsed_sections": [],
      "authorship_tag": "ABX9TyMR/IYEj8jOxiNaBnNDZsi2",
      "include_colab_link": true
    },
    "kernelspec": {
      "name": "python3",
      "display_name": "Python 3"
    }
  },
  "cells": [
    {
      "cell_type": "markdown",
      "metadata": {
        "id": "view-in-github",
        "colab_type": "text"
      },
      "source": [
        "<a href=\"https://colab.research.google.com/github/ahmedaashraf/Movie-Review-Classification/blob/master/MovieReviewClassification.ipynb\" target=\"_parent\"><img src=\"https://colab.research.google.com/assets/colab-badge.svg\" alt=\"Open In Colab\"/></a>"
      ]
    },
    {
      "cell_type": "code",
      "metadata": {
        "id": "e4TM5MQxvgDj",
        "colab_type": "code",
        "outputId": "b4b4ad79-3754-447a-99e4-1851720b5af8",
        "colab": {
          "base_uri": "https://localhost:8080/",
          "height": 717
        }
      },
      "source": [
        "!pip install tensorflow"
      ],
      "execution_count": 1,
      "outputs": [
        {
          "output_type": "stream",
          "text": [
            "Requirement already satisfied: tensorflow in /usr/local/lib/python3.6/dist-packages (2.2.0)\n",
            "Requirement already satisfied: absl-py>=0.7.0 in /usr/local/lib/python3.6/dist-packages (from tensorflow) (0.9.0)\n",
            "Requirement already satisfied: six>=1.12.0 in /usr/local/lib/python3.6/dist-packages (from tensorflow) (1.12.0)\n",
            "Requirement already satisfied: wheel>=0.26; python_version >= \"3\" in /usr/local/lib/python3.6/dist-packages (from tensorflow) (0.34.2)\n",
            "Requirement already satisfied: scipy==1.4.1; python_version >= \"3\" in /usr/local/lib/python3.6/dist-packages (from tensorflow) (1.4.1)\n",
            "Requirement already satisfied: protobuf>=3.8.0 in /usr/local/lib/python3.6/dist-packages (from tensorflow) (3.10.0)\n",
            "Requirement already satisfied: gast==0.3.3 in /usr/local/lib/python3.6/dist-packages (from tensorflow) (0.3.3)\n",
            "Requirement already satisfied: numpy<2.0,>=1.16.0 in /usr/local/lib/python3.6/dist-packages (from tensorflow) (1.18.5)\n",
            "Requirement already satisfied: tensorflow-estimator<2.3.0,>=2.2.0 in /usr/local/lib/python3.6/dist-packages (from tensorflow) (2.2.0)\n",
            "Requirement already satisfied: wrapt>=1.11.1 in /usr/local/lib/python3.6/dist-packages (from tensorflow) (1.12.1)\n",
            "Requirement already satisfied: astunparse==1.6.3 in /usr/local/lib/python3.6/dist-packages (from tensorflow) (1.6.3)\n",
            "Requirement already satisfied: tensorboard<2.3.0,>=2.2.0 in /usr/local/lib/python3.6/dist-packages (from tensorflow) (2.2.2)\n",
            "Requirement already satisfied: termcolor>=1.1.0 in /usr/local/lib/python3.6/dist-packages (from tensorflow) (1.1.0)\n",
            "Requirement already satisfied: grpcio>=1.8.6 in /usr/local/lib/python3.6/dist-packages (from tensorflow) (1.29.0)\n",
            "Requirement already satisfied: keras-preprocessing>=1.1.0 in /usr/local/lib/python3.6/dist-packages (from tensorflow) (1.1.2)\n",
            "Requirement already satisfied: google-pasta>=0.1.8 in /usr/local/lib/python3.6/dist-packages (from tensorflow) (0.2.0)\n",
            "Requirement already satisfied: opt-einsum>=2.3.2 in /usr/local/lib/python3.6/dist-packages (from tensorflow) (3.2.1)\n",
            "Requirement already satisfied: h5py<2.11.0,>=2.10.0 in /usr/local/lib/python3.6/dist-packages (from tensorflow) (2.10.0)\n",
            "Requirement already satisfied: setuptools in /usr/local/lib/python3.6/dist-packages (from protobuf>=3.8.0->tensorflow) (47.1.1)\n",
            "Requirement already satisfied: markdown>=2.6.8 in /usr/local/lib/python3.6/dist-packages (from tensorboard<2.3.0,>=2.2.0->tensorflow) (3.2.2)\n",
            "Requirement already satisfied: werkzeug>=0.11.15 in /usr/local/lib/python3.6/dist-packages (from tensorboard<2.3.0,>=2.2.0->tensorflow) (1.0.1)\n",
            "Requirement already satisfied: requests<3,>=2.21.0 in /usr/local/lib/python3.6/dist-packages (from tensorboard<2.3.0,>=2.2.0->tensorflow) (2.23.0)\n",
            "Requirement already satisfied: google-auth<2,>=1.6.3 in /usr/local/lib/python3.6/dist-packages (from tensorboard<2.3.0,>=2.2.0->tensorflow) (1.7.2)\n",
            "Requirement already satisfied: tensorboard-plugin-wit>=1.6.0 in /usr/local/lib/python3.6/dist-packages (from tensorboard<2.3.0,>=2.2.0->tensorflow) (1.6.0.post3)\n",
            "Requirement already satisfied: google-auth-oauthlib<0.5,>=0.4.1 in /usr/local/lib/python3.6/dist-packages (from tensorboard<2.3.0,>=2.2.0->tensorflow) (0.4.1)\n",
            "Requirement already satisfied: importlib-metadata; python_version < \"3.8\" in /usr/local/lib/python3.6/dist-packages (from markdown>=2.6.8->tensorboard<2.3.0,>=2.2.0->tensorflow) (1.6.0)\n",
            "Requirement already satisfied: urllib3!=1.25.0,!=1.25.1,<1.26,>=1.21.1 in /usr/local/lib/python3.6/dist-packages (from requests<3,>=2.21.0->tensorboard<2.3.0,>=2.2.0->tensorflow) (1.24.3)\n",
            "Requirement already satisfied: idna<3,>=2.5 in /usr/local/lib/python3.6/dist-packages (from requests<3,>=2.21.0->tensorboard<2.3.0,>=2.2.0->tensorflow) (2.9)\n",
            "Requirement already satisfied: certifi>=2017.4.17 in /usr/local/lib/python3.6/dist-packages (from requests<3,>=2.21.0->tensorboard<2.3.0,>=2.2.0->tensorflow) (2020.4.5.1)\n",
            "Requirement already satisfied: chardet<4,>=3.0.2 in /usr/local/lib/python3.6/dist-packages (from requests<3,>=2.21.0->tensorboard<2.3.0,>=2.2.0->tensorflow) (3.0.4)\n",
            "Requirement already satisfied: cachetools<3.2,>=2.0.0 in /usr/local/lib/python3.6/dist-packages (from google-auth<2,>=1.6.3->tensorboard<2.3.0,>=2.2.0->tensorflow) (3.1.1)\n",
            "Requirement already satisfied: rsa<4.1,>=3.1.4 in /usr/local/lib/python3.6/dist-packages (from google-auth<2,>=1.6.3->tensorboard<2.3.0,>=2.2.0->tensorflow) (4.0)\n",
            "Requirement already satisfied: pyasn1-modules>=0.2.1 in /usr/local/lib/python3.6/dist-packages (from google-auth<2,>=1.6.3->tensorboard<2.3.0,>=2.2.0->tensorflow) (0.2.8)\n",
            "Requirement already satisfied: requests-oauthlib>=0.7.0 in /usr/local/lib/python3.6/dist-packages (from google-auth-oauthlib<0.5,>=0.4.1->tensorboard<2.3.0,>=2.2.0->tensorflow) (1.3.0)\n",
            "Requirement already satisfied: zipp>=0.5 in /usr/local/lib/python3.6/dist-packages (from importlib-metadata; python_version < \"3.8\"->markdown>=2.6.8->tensorboard<2.3.0,>=2.2.0->tensorflow) (3.1.0)\n",
            "Requirement already satisfied: pyasn1>=0.1.3 in /usr/local/lib/python3.6/dist-packages (from rsa<4.1,>=3.1.4->google-auth<2,>=1.6.3->tensorboard<2.3.0,>=2.2.0->tensorflow) (0.4.8)\n",
            "Requirement already satisfied: oauthlib>=3.0.0 in /usr/local/lib/python3.6/dist-packages (from requests-oauthlib>=0.7.0->google-auth-oauthlib<0.5,>=0.4.1->tensorboard<2.3.0,>=2.2.0->tensorflow) (3.1.0)\n"
          ],
          "name": "stdout"
        }
      ]
    },
    {
      "cell_type": "code",
      "metadata": {
        "id": "s5gbTYgBv7Sz",
        "colab_type": "code",
        "outputId": "665e93a9-c75e-48aa-b50c-5326d11f4df9",
        "colab": {
          "base_uri": "https://localhost:8080/",
          "height": 35
        }
      },
      "source": [
        "from tensorflow import keras\n",
        "from keras.datasets import imdb\n",
        "import numpy as np\n",
        "\n",
        "(X_train,y_train) , (X_test,y_test)  = imdb.load_data (num_words=10000)\n",
        "\n"
      ],
      "execution_count": 2,
      "outputs": [
        {
          "output_type": "stream",
          "text": [
            "Using TensorFlow backend.\n"
          ],
          "name": "stderr"
        }
      ]
    },
    {
      "cell_type": "code",
      "metadata": {
        "id": "KtmnyEVJPEeA",
        "colab_type": "code",
        "outputId": "91a2e0bd-2673-45f4-ce5e-dad41c0afac9",
        "colab": {
          "base_uri": "https://localhost:8080/",
          "height": 35
        }
      },
      "source": [
        "X_train.shape"
      ],
      "execution_count": 3,
      "outputs": [
        {
          "output_type": "execute_result",
          "data": {
            "text/plain": [
              "(25000,)"
            ]
          },
          "metadata": {
            "tags": []
          },
          "execution_count": 3
        }
      ]
    },
    {
      "cell_type": "code",
      "metadata": {
        "id": "9RW-jaRzIpeN",
        "colab_type": "code",
        "colab": {}
      },
      "source": [
        "features = np.concatenate((X_train,X_test),axis=0)\n",
        "label = np.concatenate((y_train,y_test),axis=0)"
      ],
      "execution_count": 0,
      "outputs": []
    },
    {
      "cell_type": "code",
      "metadata": {
        "id": "sAORDZ83Ply4",
        "colab_type": "code",
        "outputId": "431d0297-8543-424c-8f1a-c970ea88e1e3",
        "colab": {
          "base_uri": "https://localhost:8080/",
          "height": 35
        }
      },
      "source": [
        "features.shape"
      ],
      "execution_count": 5,
      "outputs": [
        {
          "output_type": "execute_result",
          "data": {
            "text/plain": [
              "(50000,)"
            ]
          },
          "metadata": {
            "tags": []
          },
          "execution_count": 5
        }
      ]
    },
    {
      "cell_type": "code",
      "metadata": {
        "id": "F5UdUN0Yzs7Y",
        "colab_type": "code",
        "outputId": "e4e30fd8-1c29-46bc-d56c-d13acc03713a",
        "colab": {
          "base_uri": "https://localhost:8080/",
          "height": 92
        }
      },
      "source": [
        "print (features[0])\n",
        "\n",
        "print (len(features[0]))\n",
        "print (len(features[1]))\n",
        "\n",
        "# Checking out the data\n",
        "# the size of each sample is different so padding \n",
        "# will be performed by adding a dumy word to the text\n",
        "\n",
        " # word index returnes the number corresponds to the word word_imdex[\"the\"] = #\n",
        "word_index = imdb.get_word_index()\n",
        " # the following transforms  {'a': 0 , 'b' : 1} tp {0:'a' , 1:'b'}\n",
        "\n",
        "valkey_reverse = dict((value, key) for key, value in word_index.items())\n",
        "\n",
        "def decode(review):  # This function transforms the numeric list into the actual review\n",
        "    text = ' '\n",
        "    text = text.join(valkey_reverse[i] for i in review if i!=0) # remove 0\n",
        "    return text"
      ],
      "execution_count": 6,
      "outputs": [
        {
          "output_type": "stream",
          "text": [
            "[1, 14, 22, 16, 43, 530, 973, 1622, 1385, 65, 458, 4468, 66, 3941, 4, 173, 36, 256, 5, 25, 100, 43, 838, 112, 50, 670, 2, 9, 35, 480, 284, 5, 150, 4, 172, 112, 167, 2, 336, 385, 39, 4, 172, 4536, 1111, 17, 546, 38, 13, 447, 4, 192, 50, 16, 6, 147, 2025, 19, 14, 22, 4, 1920, 4613, 469, 4, 22, 71, 87, 12, 16, 43, 530, 38, 76, 15, 13, 1247, 4, 22, 17, 515, 17, 12, 16, 626, 18, 2, 5, 62, 386, 12, 8, 316, 8, 106, 5, 4, 2223, 5244, 16, 480, 66, 3785, 33, 4, 130, 12, 16, 38, 619, 5, 25, 124, 51, 36, 135, 48, 25, 1415, 33, 6, 22, 12, 215, 28, 77, 52, 5, 14, 407, 16, 82, 2, 8, 4, 107, 117, 5952, 15, 256, 4, 2, 7, 3766, 5, 723, 36, 71, 43, 530, 476, 26, 400, 317, 46, 7, 4, 2, 1029, 13, 104, 88, 4, 381, 15, 297, 98, 32, 2071, 56, 26, 141, 6, 194, 7486, 18, 4, 226, 22, 21, 134, 476, 26, 480, 5, 144, 30, 5535, 18, 51, 36, 28, 224, 92, 25, 104, 4, 226, 65, 16, 38, 1334, 88, 12, 16, 283, 5, 16, 4472, 113, 103, 32, 15, 16, 5345, 19, 178, 32]\n",
            "218\n",
            "189\n"
          ],
          "name": "stdout"
        }
      ]
    },
    {
      "cell_type": "code",
      "metadata": {
        "id": "K4J-xUjF0w7A",
        "colab_type": "code",
        "outputId": "2d40040d-4518-41a2-dd33-7f83b639cd30",
        "colab": {
          "base_uri": "https://localhost:8080/",
          "height": 74
        }
      },
      "source": [
        "from keras.preprocessing.sequence import pad_sequences\n",
        "features = pad_sequences(features, padding = 'post', maxlen = 256)\n",
        "\n",
        "print (len(features[0]))\n",
        "decode (features[0])\n"
      ],
      "execution_count": 7,
      "outputs": [
        {
          "output_type": "stream",
          "text": [
            "256\n"
          ],
          "name": "stdout"
        },
        {
          "output_type": "execute_result",
          "data": {
            "text/plain": [
              "\"the as you with out themselves powerful lets loves their becomes reaching had journalist of lot from anyone to have after out atmosphere never more room and it so heart shows to years of every never going and help moments or of every chest visual movie except her was several of enough more with is now current film as you of mine potentially unfortunately of you than him that with out themselves her get for was camp of you movie sometimes movie that with scary but and to story wonderful that in seeing in character to of 70s musicians with heart had shadows they of here that with her serious to have does when from why what have critics they is you that isn't one will very to as itself with other and in of seen over landed for anyone of and br show's to whether from than out themselves history he name half some br of and odd was two most of mean for 1 any an boat she he should is thought frog but of script you not while history he heart to real at barrel but when from one bit then have two of script their with her nobody most that with wasn't to with armed acting watch an for with heartfelt film want an\""
            ]
          },
          "metadata": {
            "tags": []
          },
          "execution_count": 7
        }
      ]
    },
    {
      "cell_type": "code",
      "metadata": {
        "id": "AM17r_MAVpRK",
        "colab_type": "code",
        "outputId": "ebe3c31a-90d2-4a4a-d899-6fd01bf7116d",
        "colab": {
          "base_uri": "https://localhost:8080/",
          "height": 55
        }
      },
      "source": [
        "decode(features[15])"
      ],
      "execution_count": 8,
      "outputs": [
        {
          "output_type": "execute_result",
          "data": {
            "text/plain": [
              "\"the is rate hope br my out double this is again overwhelming country known portrayed desperation memories is sissy teaches anyway standard planet poem late applaud to performance not his there's is carrey and just being film jerry in jerry baby occupied to murders this is and to have into one as fall issues but is on was had can't is dark some br of needed based just table and incarnation of little with barely may prepare to country presentation don't plot and he 12 in could is blow opportunity lie wood are is late helps ii wanted not nothing from lost and i'm and jenny as with keep but and sinking that effects just is remember b was off use of and merely spacey this of ultimate old\""
            ]
          },
          "metadata": {
            "tags": []
          },
          "execution_count": 8
        }
      ]
    },
    {
      "cell_type": "code",
      "metadata": {
        "id": "LqgIPAQJ1Zrm",
        "colab_type": "code",
        "colab": {}
      },
      "source": [
        "# identify the model's characterstics\n",
        "\n",
        "activation1 = 'relu'\n",
        "activation2 = 'sigmoid'\n",
        "activation3 = 'softmax'\n",
        "optimizer_ = 'adam'\n",
        "loss_ = 'binary_crossentropy'\n",
        "\n",
        "from keras.models import Sequential\n",
        "from keras.layers import Embedding , Dense , GlobalAveragePooling1D , Dropout , Flatten\n",
        "from keras.metrics import Recall , Precision\n",
        "from sklearn.model_selection import StratifiedKFold # using cross-validation to avoid overfitting\n",
        "import pandas as pd\n"
      ],
      "execution_count": 0,
      "outputs": []
    },
    {
      "cell_type": "code",
      "metadata": {
        "id": "0edO6qh16T5z",
        "colab_type": "code",
        "outputId": "c291304e-21c4-4a4d-fcf3-50ccee244830",
        "colab": {
          "base_uri": "https://localhost:8080/",
          "height": 384
        }
      },
      "source": [
        "model = Sequential([\n",
        "    \n",
        "    Embedding(10000,32),\n",
        "    GlobalAveragePooling1D(),\n",
        "    Dense(32,activation=activation1),\n",
        "    Dropout(0.5),\n",
        "    Dense(32,activation=activation1),\n",
        "    Dense(1,activation=activation2),\n",
        "\n",
        "])\n",
        "\n",
        "model.compile(\n",
        "    \n",
        "    optimizer=optimizer_,\n",
        "    loss = loss_,\n",
        "    metrics = ['acc']\n",
        "\n",
        ")\n",
        "\n",
        "model.summary()\n",
        "\n",
        "\n",
        "\n"
      ],
      "execution_count": 10,
      "outputs": [
        {
          "output_type": "stream",
          "text": [
            "Model: \"sequential_1\"\n",
            "_________________________________________________________________\n",
            "Layer (type)                 Output Shape              Param #   \n",
            "=================================================================\n",
            "embedding_1 (Embedding)      (None, None, 32)          320000    \n",
            "_________________________________________________________________\n",
            "global_average_pooling1d_1 ( (None, 32)                0         \n",
            "_________________________________________________________________\n",
            "dense_1 (Dense)              (None, 32)                1056      \n",
            "_________________________________________________________________\n",
            "dropout_1 (Dropout)          (None, 32)                0         \n",
            "_________________________________________________________________\n",
            "dense_2 (Dense)              (None, 32)                1056      \n",
            "_________________________________________________________________\n",
            "dense_3 (Dense)              (None, 1)                 33        \n",
            "=================================================================\n",
            "Total params: 322,145\n",
            "Trainable params: 322,145\n",
            "Non-trainable params: 0\n",
            "_________________________________________________________________\n"
          ],
          "name": "stdout"
        }
      ]
    },
    {
      "cell_type": "code",
      "metadata": {
        "id": "dnUAolktL6GB",
        "colab_type": "code",
        "outputId": "f5e1acf8-dc88-4226-b8a3-7ec29c0ba455",
        "colab": {
          "base_uri": "https://localhost:8080/",
          "height": 1000
        }
      },
      "source": [
        "import matplotlib.pyplot as plt\n",
        "from sklearn import metrics\n",
        "%matplotlib inline\n",
        "\n",
        "fold_num = 4\n",
        "\n",
        "skf = StratifiedKFold(fold_num, shuffle=True, random_state=42) \n",
        "fold = 0\n",
        "\n",
        "accu = []\n",
        "\n",
        "\n",
        "for train, test in skf.split(features,label,groups=None):  \n",
        "    fold+=1\n",
        "    print(f\"Fold #{fold}\")\n",
        "        \n",
        "    features_train = features[train]\n",
        "    label_train = label[train]\n",
        "    features_test = features[test]\n",
        "    label_test = label[test]\n",
        "\n",
        "    \n",
        "    E = 5\n",
        "    h = model.fit(\n",
        "        features_train, label_train,\n",
        "        validation_data=(features_test,label_test),\n",
        "        epochs = E,\n",
        "    )\n",
        "\n",
        "    accu.append(h.history['val_acc'])\n",
        "\n",
        "    plt.plot(range(E), h.history['acc'], label = 'Training')\n",
        "    plt.plot(range(E), h.history['val_acc'], label = 'Validation')\n",
        "    plt.legend()\n",
        "    plt.show()"
      ],
      "execution_count": 11,
      "outputs": [
        {
          "output_type": "stream",
          "text": [
            "Fold #1\n"
          ],
          "name": "stdout"
        },
        {
          "output_type": "stream",
          "text": [
            "/usr/local/lib/python3.6/dist-packages/tensorflow/python/framework/indexed_slices.py:434: UserWarning: Converting sparse IndexedSlices to a dense Tensor of unknown shape. This may consume a large amount of memory.\n",
            "  \"Converting sparse IndexedSlices to a dense Tensor of unknown shape. \"\n"
          ],
          "name": "stderr"
        },
        {
          "output_type": "stream",
          "text": [
            "Train on 37500 samples, validate on 12500 samples\n",
            "Epoch 1/5\n",
            "37500/37500 [==============================] - 9s 230us/step - loss: 0.3873 - acc: 0.8193 - val_loss: 0.2700 - val_acc: 0.8875\n",
            "Epoch 2/5\n",
            "37500/37500 [==============================] - 8s 223us/step - loss: 0.2328 - acc: 0.9118 - val_loss: 0.2931 - val_acc: 0.8786\n",
            "Epoch 3/5\n",
            "37500/37500 [==============================] - 8s 225us/step - loss: 0.1953 - acc: 0.9285 - val_loss: 0.3086 - val_acc: 0.8810\n",
            "Epoch 4/5\n",
            "37500/37500 [==============================] - 8s 224us/step - loss: 0.1718 - acc: 0.9379 - val_loss: 0.3178 - val_acc: 0.8824\n",
            "Epoch 5/5\n",
            "37500/37500 [==============================] - 8s 225us/step - loss: 0.1503 - acc: 0.9449 - val_loss: 0.3409 - val_acc: 0.8777\n"
          ],
          "name": "stdout"
        },
        {
          "output_type": "display_data",
          "data": {
            "image/png": "[encoded data removed]",
            "text/plain": [
              "<Figure size 432x288 with 1 Axes>"
            ]
          },
          "metadata": {
            "tags": [],
            "needs_background": "light"
          }
        },
        {
          "output_type": "stream",
          "text": [
            "Fold #2\n",
            "Train on 37500 samples, validate on 12500 samples\n",
            "Epoch 1/5\n",
            "37500/37500 [==============================] - 9s 229us/step - loss: 0.2005 - acc: 0.9247 - val_loss: 0.1328 - val_acc: 0.9500\n",
            "Epoch 2/5\n",
            "37500/37500 [==============================] - 9s 227us/step - loss: 0.1676 - acc: 0.9367 - val_loss: 0.1612 - val_acc: 0.9326\n",
            "Epoch 3/5\n",
            "37500/37500 [==============================] - 8s 222us/step - loss: 0.1511 - acc: 0.9421 - val_loss: 0.1801 - val_acc: 0.9253\n",
            "Epoch 4/5\n",
            "37500/37500 [==============================] - 8s 221us/step - loss: 0.1306 - acc: 0.9493 - val_loss: 0.2018 - val_acc: 0.9216\n",
            "Epoch 5/5\n",
            "37500/37500 [==============================] - 8s 224us/step - loss: 0.1180 - acc: 0.9516 - val_loss: 0.2249 - val_acc: 0.9118\n"
          ],
          "name": "stdout"
        },
        {
          "output_type": "display_data",
          "data": {
            "image/png": "[encoded data removed]",
            "text/plain": [
              "<Figure size 432x288 with 1 Axes>"
            ]
          },
          "metadata": {
            "tags": [],
            "needs_background": "light"
          }
        },
        {
          "output_type": "stream",
          "text": [
            "Fold #3\n",
            "Train on 37500 samples, validate on 12500 samples\n",
            "Epoch 1/5\n",
            "37500/37500 [==============================] - 8s 223us/step - loss: 0.1541 - acc: 0.9393 - val_loss: 0.1211 - val_acc: 0.9441\n",
            "Epoch 2/5\n",
            "37500/37500 [==============================] - 10s 262us/step - loss: 0.1307 - acc: 0.9473 - val_loss: 0.1076 - val_acc: 0.9534\n",
            "Epoch 3/5\n",
            "37500/37500 [==============================] - 10s 273us/step - loss: 0.1163 - acc: 0.9520 - val_loss: 0.1295 - val_acc: 0.9446\n",
            "Epoch 4/5\n",
            "37500/37500 [==============================] - 13s 338us/step - loss: 0.1019 - acc: 0.9558 - val_loss: 0.1504 - val_acc: 0.9364\n",
            "Epoch 5/5\n",
            "37500/37500 [==============================] - 9s 246us/step - loss: 0.0954 - acc: 0.9571 - val_loss: 0.1859 - val_acc: 0.9302\n"
          ],
          "name": "stdout"
        },
        {
          "output_type": "display_data",
          "data": {
            "image/png": "[encoded data removed]",
            "text/plain": [
              "<Figure size 432x288 with 1 Axes>"
            ]
          },
          "metadata": {
            "tags": [],
            "needs_background": "light"
          }
        },
        {
          "output_type": "stream",
          "text": [
            "Fold #4\n",
            "Train on 37500 samples, validate on 12500 samples\n",
            "Epoch 1/5\n",
            "37500/37500 [==============================] - 9s 227us/step - loss: 0.1280 - acc: 0.9450 - val_loss: 0.0919 - val_acc: 0.9572\n",
            "Epoch 2/5\n",
            "37500/37500 [==============================] - 8s 220us/step - loss: 0.1036 - acc: 0.9530 - val_loss: 0.0830 - val_acc: 0.9606\n",
            "Epoch 3/5\n",
            "37500/37500 [==============================] - 8s 226us/step - loss: 0.0946 - acc: 0.9558 - val_loss: 0.1004 - val_acc: 0.9535\n",
            "Epoch 4/5\n",
            "37500/37500 [==============================] - 9s 228us/step - loss: 0.0864 - acc: 0.9582 - val_loss: 0.1098 - val_acc: 0.9505\n",
            "Epoch 5/5\n",
            "37500/37500 [==============================] - 9s 230us/step - loss: 0.0799 - acc: 0.9622 - val_loss: 0.1248 - val_acc: 0.9437\n"
          ],
          "name": "stdout"
        },
        {
          "output_type": "display_data",
          "data": {
            "image/png": "[encoded data removed]",
            "text/plain": [
              "<Figure size 432x288 with 1 Axes>"
            ]
          },
          "metadata": {
            "tags": [],
            "needs_background": "light"
          }
        }
      ]
    },
    {
      "cell_type": "code",
      "metadata": {
        "id": "SEQtFQC7UZH3",
        "colab_type": "code",
        "colab": {
          "base_uri": "https://localhost:8080/",
          "height": 35
        },
        "outputId": "6e0669fc-9f77-458e-ba4d-22dc60f2ca51"
      },
      "source": [
        "len = 0\n",
        "sum = 0.0\n",
        "for i in accu:\n",
        "  sum += i[0]\n",
        "  len+=1\n",
        "\n",
        "print(\"{} Fold Accuracy : \".format(fold_num) , sum/len)\n",
        "\n"
      ],
      "execution_count": 12,
      "outputs": [
        {
          "output_type": "stream",
          "text": [
            "4 Fold Accuracy :  0.9346999973058701\n"
          ],
          "name": "stdout"
        }
      ]
    },
    {
      "cell_type": "code",
      "metadata": {
        "id": "wTfW3mZ3Ybw6",
        "colab_type": "code",
        "colab": {
          "base_uri": "https://localhost:8080/",
          "height": 221
        },
        "outputId": "5f954125-c9b0-4cef-93b9-6e57d43282e3"
      },
      "source": [
        "def encode (review):\n",
        "  new_review = []\n",
        "  for i in review:\n",
        "    new_review.append(word_index[i])\n",
        "  return new_review\n",
        "\n",
        "new_rev = \"good movie\"\n",
        "test = encode(new_rev.split())\n",
        "test2 = np.array(test)\n",
        "tryf = decode(features[99])\n",
        "print(test)\n",
        "print(tryf)\n",
        "\n",
        "prediction = model.predict(features[0])\n",
        "fp = prediction.argmax(axis=-1)\n",
        "print(fp)\n",
        "print(label[0])"
      ],
      "execution_count": 14,
      "outputs": [
        {
          "output_type": "stream",
          "text": [
            "[49, 17]\n",
            "the ex turner hit could fact characters how br an of powerful with time enjoy but as on of see highly lot with of baby stereotypes lock fun or babes of ride and as characters there even interest opening is road and in is fact on even without even love to even brought other is road and grandmother and it is very shows not all it her generation to sweet this as for if serious more than is again hour for than absolutely in at makes where's of listen fact must characters to even by mediocre this of night was between for as on with hair appeared to was nothing political clearly to station that me will decide in 16 captured killed can as on what have couldn't was these does when have off performance porn series of see roles br piece like story same as on which trapped hero to exactly as it in have ex turner known minutes fact characters as on find lucky few just previously respective achieved\n",
            "[0 0 0 0 0 0 0 0 0 0 0 0 0 0 0 0 0 0 0 0 0 0 0 0 0 0 0 0 0 0 0 0 0 0 0 0 0\n",
            " 0 0 0 0 0 0 0 0 0 0 0 0 0 0 0 0 0 0 0 0 0 0 0 0 0 0 0 0 0 0 0 0 0 0 0 0 0\n",
            " 0 0 0 0 0 0 0 0 0 0 0 0 0 0 0 0 0 0 0 0 0 0 0 0 0 0 0 0 0 0 0 0 0 0 0 0 0\n",
            " 0 0 0 0 0 0 0 0 0 0 0 0 0 0 0 0 0 0 0 0 0 0 0 0 0 0 0 0 0 0 0 0 0 0 0 0 0\n",
            " 0 0 0 0 0 0 0 0 0 0 0 0 0 0 0 0 0 0 0 0 0 0 0 0 0 0 0 0 0 0 0 0 0 0 0 0 0\n",
            " 0 0 0 0 0 0 0 0 0 0 0 0 0 0 0 0 0 0 0 0 0 0 0 0 0 0 0 0 0 0 0 0 0 0 0 0 0\n",
            " 0 0 0 0 0 0 0 0 0 0 0 0 0 0 0 0 0 0 0 0 0 0 0 0 0 0 0 0 0 0 0 0 0 0]\n",
            "1\n"
          ],
          "name": "stdout"
        }
      ]
    },
    {
      "cell_type": "code",
      "metadata": {
        "id": "3O4sh47IoHGL",
        "colab_type": "code",
        "colab": {}
      },
      "source": [
        "\n",
        "\n"
      ],
      "execution_count": 0,
      "outputs": []
    },
    {
      "cell_type": "code",
      "metadata": {
        "id": "FC-UA0M2ZYkw",
        "colab_type": "code",
        "colab": {}
      },
      "source": [
        ""
      ],
      "execution_count": 0,
      "outputs": []
    },
    {
      "cell_type": "code",
      "metadata": {
        "id": "nyce54YPoHGX",
        "colab_type": "code",
        "colab": {}
      },
      "source": [
        "\n"
      ],
      "execution_count": 0,
      "outputs": []
    }
  ]
}