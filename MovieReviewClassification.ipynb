{
  "nbformat": 4,
  "nbformat_minor": 0,
  "metadata": {
    "colab": {
      "name": "MovieReviewClassification.ipynb",
      "provenance": [],
      "collapsed_sections": [],
      "authorship_tag": "ABX9TyNWL3zjcYV5b1y+nFDSAlEP",
      "include_colab_link": true
    },
    "kernelspec": {
      "name": "python3",
      "display_name": "Python 3"
    }
  },
  "cells": [
    {
      "cell_type": "markdown",
      "metadata": {
        "id": "view-in-github",
        "colab_type": "text"
      },
      "source": [
        "<a href=\"https://colab.research.google.com/github/ahmedaashraf/Movie-Review-Classification/blob/master/MovieReviewClassification.ipynb\" target=\"_parent\"><img src=\"https://colab.research.google.com/assets/colab-badge.svg\" alt=\"Open In Colab\"/></a>"
      ]
    },
    {
      "cell_type": "code",
      "metadata": {
        "id": "e4TM5MQxvgDj",
        "colab_type": "code",
        "colab": {}
      },
      "source": [
        "!pip install tensorflow"
      ],
      "execution_count": 0,
      "outputs": []
    },
    {
      "cell_type": "code",
      "metadata": {
        "id": "s5gbTYgBv7Sz",
        "colab_type": "code",
        "outputId": "2bbb661b-818a-4875-8b58-07b7c0dfb2ad",
        "colab": {
          "base_uri": "https://localhost:8080/",
          "height": 72
        }
      },
      "source": [
        "from tensorflow import keras\n",
        "from keras.datasets import imdb\n",
        "import numpy as np\n",
        "\n",
        "(X_train,y_train) , (X_test,y_test)  = imdb.load_data (num_words=10000)\n",
        "\n"
      ],
      "execution_count": 1,
      "outputs": [
        {
          "output_type": "stream",
          "text": [
            "Downloading data from https://s3.amazonaws.com/text-datasets/imdb.npz\n",
            "\r    8192/17464789 [..............................] - ETA: 0s"
          ],
          "name": "stdout"
        },
        {
          "output_type": "stream",
          "text": [
            "Using TensorFlow backend.\n"
          ],
          "name": "stderr"
        },
        {
          "output_type": "stream",
          "text": [
            "17465344/17464789 [==============================] - 0s 0us/step\n"
          ],
          "name": "stdout"
        }
      ]
    },
    {
      "cell_type": "code",
      "metadata": {
        "id": "KtmnyEVJPEeA",
        "colab_type": "code",
        "outputId": "6586224a-cead-4860-daf0-91e30b530cd3",
        "colab": {
          "base_uri": "https://localhost:8080/",
          "height": 35
        }
      },
      "source": [
        "X_train.shape"
      ],
      "execution_count": 2,
      "outputs": [
        {
          "output_type": "execute_result",
          "data": {
            "text/plain": [
              "(25000,)"
            ]
          },
          "metadata": {
            "tags": []
          },
          "execution_count": 2
        }
      ]
    },
    {
      "cell_type": "code",
      "metadata": {
        "id": "9RW-jaRzIpeN",
        "colab_type": "code",
        "colab": {}
      },
      "source": [
        "from sklearn.model_selection import train_test_split\n",
        "\n",
        "features = np.concatenate((X_train,X_test),axis=0)\n",
        "label = np.concatenate((y_train,y_test),axis=0)\n",
        "\n",
        "features_train, features_test, label_train, label_test = train_test_split(features, label, test_size=0.2, random_state=42)\n"
      ],
      "execution_count": 0,
      "outputs": []
    },
    {
      "cell_type": "code",
      "metadata": {
        "id": "sAORDZ83Ply4",
        "colab_type": "code",
        "outputId": "a2663076-edb8-4b88-8bac-7f9989171b42",
        "colab": {
          "base_uri": "https://localhost:8080/",
          "height": 35
        }
      },
      "source": [
        "features.shape"
      ],
      "execution_count": 4,
      "outputs": [
        {
          "output_type": "execute_result",
          "data": {
            "text/plain": [
              "(50000,)"
            ]
          },
          "metadata": {
            "tags": []
          },
          "execution_count": 4
        }
      ]
    },
    {
      "cell_type": "code",
      "metadata": {
        "id": "F5UdUN0Yzs7Y",
        "colab_type": "code",
        "outputId": "4dfaa8e3-827b-4d95-a2a4-7347cfd2d678",
        "colab": {
          "base_uri": "https://localhost:8080/",
          "height": 129
        }
      },
      "source": [
        "print (features[0])\n",
        "\n",
        "print (len(features[0]))\n",
        "print (len(features[1]))\n",
        "\n",
        "# Checking out the data\n",
        "# the size of each sample is different so padding \n",
        "# will be performed by adding a dumy word to the text\n",
        "\n",
        " # word index returnes the number corresponds to the word word_imdex[\"the\"] = #\n",
        "word_index = imdb.get_word_index()\n",
        " # the following transforms  {'a': 0 , 'b' : 1} tp {0:'a' , 1:'b'}\n",
        "\n",
        "valkey_reverse = dict((value, key) for key, value in word_index.items())\n",
        "\n",
        "def decode(review):  # This function transforms the numeric list into the actual review\n",
        "    text = ' '\n",
        "    text = text.join(valkey_reverse[i] for i in review if i!=0) # remove 0\n",
        "    return text"
      ],
      "execution_count": 5,
      "outputs": [
        {
          "output_type": "stream",
          "text": [
            "[1, 14, 22, 16, 43, 530, 973, 1622, 1385, 65, 458, 4468, 66, 3941, 4, 173, 36, 256, 5, 25, 100, 43, 838, 112, 50, 670, 2, 9, 35, 480, 284, 5, 150, 4, 172, 112, 167, 2, 336, 385, 39, 4, 172, 4536, 1111, 17, 546, 38, 13, 447, 4, 192, 50, 16, 6, 147, 2025, 19, 14, 22, 4, 1920, 4613, 469, 4, 22, 71, 87, 12, 16, 43, 530, 38, 76, 15, 13, 1247, 4, 22, 17, 515, 17, 12, 16, 626, 18, 2, 5, 62, 386, 12, 8, 316, 8, 106, 5, 4, 2223, 5244, 16, 480, 66, 3785, 33, 4, 130, 12, 16, 38, 619, 5, 25, 124, 51, 36, 135, 48, 25, 1415, 33, 6, 22, 12, 215, 28, 77, 52, 5, 14, 407, 16, 82, 2, 8, 4, 107, 117, 5952, 15, 256, 4, 2, 7, 3766, 5, 723, 36, 71, 43, 530, 476, 26, 400, 317, 46, 7, 4, 2, 1029, 13, 104, 88, 4, 381, 15, 297, 98, 32, 2071, 56, 26, 141, 6, 194, 7486, 18, 4, 226, 22, 21, 134, 476, 26, 480, 5, 144, 30, 5535, 18, 51, 36, 28, 224, 92, 25, 104, 4, 226, 65, 16, 38, 1334, 88, 12, 16, 283, 5, 16, 4472, 113, 103, 32, 15, 16, 5345, 19, 178, 32]\n",
            "218\n",
            "189\n",
            "Downloading data from https://s3.amazonaws.com/text-datasets/imdb_word_index.json\n",
            "1646592/1641221 [==============================] - 0s 0us/step\n"
          ],
          "name": "stdout"
        }
      ]
    },
    {
      "cell_type": "code",
      "metadata": {
        "id": "K4J-xUjF0w7A",
        "colab_type": "code",
        "outputId": "13c97026-144d-40fa-d773-b6c61ecf5cfd",
        "colab": {
          "base_uri": "https://localhost:8080/",
          "height": 92
        }
      },
      "source": [
        "from keras.preprocessing.sequence import pad_sequences\n",
        "features = pad_sequences(features, padding = 'post', maxlen = 256)\n",
        "features_train = pad_sequences(features_train, padding = 'post', maxlen = 256)\n",
        "features_test = pad_sequences(features_test, padding = 'post', maxlen = 256)\n",
        "\n",
        "print(len(features_train[0]))\n",
        "print (len(features_test[0]))\n",
        "decode (features[0])\n"
      ],
      "execution_count": 6,
      "outputs": [
        {
          "output_type": "stream",
          "text": [
            "256\n",
            "256\n"
          ],
          "name": "stdout"
        },
        {
          "output_type": "execute_result",
          "data": {
            "text/plain": [
              "\"the as you with out themselves powerful lets loves their becomes reaching had journalist of lot from anyone to have after out atmosphere never more room and it so heart shows to years of every never going and help moments or of every chest visual movie except her was several of enough more with is now current film as you of mine potentially unfortunately of you than him that with out themselves her get for was camp of you movie sometimes movie that with scary but and to story wonderful that in seeing in character to of 70s musicians with heart had shadows they of here that with her serious to have does when from why what have critics they is you that isn't one will very to as itself with other and in of seen over landed for anyone of and br show's to whether from than out themselves history he name half some br of and odd was two most of mean for 1 any an boat she he should is thought frog but of script you not while history he heart to real at barrel but when from one bit then have two of script their with her nobody most that with wasn't to with armed acting watch an for with heartfelt film want an\""
            ]
          },
          "metadata": {
            "tags": []
          },
          "execution_count": 6
        }
      ]
    },
    {
      "cell_type": "code",
      "metadata": {
        "id": "AM17r_MAVpRK",
        "colab_type": "code",
        "outputId": "ed2d76ce-4bdb-4b74-acb0-623de3f63f9e",
        "colab": {
          "base_uri": "https://localhost:8080/",
          "height": 55
        }
      },
      "source": [
        "decode(features[15])"
      ],
      "execution_count": 7,
      "outputs": [
        {
          "output_type": "execute_result",
          "data": {
            "text/plain": [
              "\"the is rate hope br my out double this is again overwhelming country known portrayed desperation memories is sissy teaches anyway standard planet poem late applaud to performance not his there's is carrey and just being film jerry in jerry baby occupied to murders this is and to have into one as fall issues but is on was had can't is dark some br of needed based just table and incarnation of little with barely may prepare to country presentation don't plot and he 12 in could is blow opportunity lie wood are is late helps ii wanted not nothing from lost and i'm and jenny as with keep but and sinking that effects just is remember b was off use of and merely spacey this of ultimate old\""
            ]
          },
          "metadata": {
            "tags": []
          },
          "execution_count": 7
        }
      ]
    },
    {
      "cell_type": "code",
      "metadata": {
        "id": "LqgIPAQJ1Zrm",
        "colab_type": "code",
        "colab": {}
      },
      "source": [
        "# identify the model's characterstics\n",
        "\n",
        "activation1 = 'relu'\n",
        "activation2 = 'sigmoid'\n",
        "activation3 = 'softmax'\n",
        "optimizer_ = 'adam'\n",
        "loss_ = 'binary_crossentropy'\n",
        "\n",
        "from keras.models import Sequential\n",
        "from keras.layers import Embedding , Dense , GlobalAveragePooling1D , Dropout , Flatten\n",
        "from keras.metrics import Recall , Precision\n",
        "from sklearn.model_selection import StratifiedKFold # using cross-validation to avoid overfitting\n",
        "import pandas as pd\n"
      ],
      "execution_count": 0,
      "outputs": []
    },
    {
      "cell_type": "code",
      "metadata": {
        "id": "0edO6qh16T5z",
        "colab_type": "code",
        "outputId": "145ee1bb-6230-4af7-decd-50f92d718e60",
        "colab": {
          "base_uri": "https://localhost:8080/",
          "height": 384
        }
      },
      "source": [
        "model = Sequential([\n",
        "    \n",
        "    Embedding(10000,16),\n",
        "    GlobalAveragePooling1D(),\n",
        "    Dense(16,activation=activation1),\n",
        "    Dropout(0.5),\n",
        "    Dense(16,activation=activation1),\n",
        "    Dense(1,activation=activation2),\n",
        "\n",
        "])\n",
        "\n",
        "model.compile(\n",
        "    \n",
        "    optimizer=optimizer_,\n",
        "    loss = loss_,\n",
        "    metrics = ['acc']\n",
        "\n",
        ")\n",
        "\n",
        "model.summary()\n",
        "\n",
        "\n",
        "\n"
      ],
      "execution_count": 9,
      "outputs": [
        {
          "output_type": "stream",
          "text": [
            "Model: \"sequential_1\"\n",
            "_________________________________________________________________\n",
            "Layer (type)                 Output Shape              Param #   \n",
            "=================================================================\n",
            "embedding_1 (Embedding)      (None, None, 16)          160000    \n",
            "_________________________________________________________________\n",
            "global_average_pooling1d_1 ( (None, 16)                0         \n",
            "_________________________________________________________________\n",
            "dense_1 (Dense)              (None, 16)                272       \n",
            "_________________________________________________________________\n",
            "dropout_1 (Dropout)          (None, 16)                0         \n",
            "_________________________________________________________________\n",
            "dense_2 (Dense)              (None, 16)                272       \n",
            "_________________________________________________________________\n",
            "dense_3 (Dense)              (None, 1)                 17        \n",
            "=================================================================\n",
            "Total params: 160,561\n",
            "Trainable params: 160,561\n",
            "Non-trainable params: 0\n",
            "_________________________________________________________________\n"
          ],
          "name": "stdout"
        }
      ]
    },
    {
      "cell_type": "code",
      "metadata": {
        "id": "dnUAolktL6GB",
        "colab_type": "code",
        "outputId": "c4559d76-fa2b-4e33-b24b-7e1423662051",
        "colab": {
          "base_uri": "https://localhost:8080/",
          "height": 1000
        }
      },
      "source": [
        "import matplotlib.pyplot as plt\n",
        "from sklearn import metrics\n",
        "%matplotlib inline\n",
        "\n",
        "fold_num = 4\n",
        "\n",
        "skf = StratifiedKFold(fold_num, shuffle=True, random_state=42) \n",
        "fold = 0\n",
        "\n",
        "accu = []\n",
        "\n",
        "\n",
        "for train, test in skf.split(features_train,label_train,groups=None):  \n",
        "    fold+=1\n",
        "    print(f\"Fold #{fold}\")\n",
        "        \n",
        "    features_train_ = features_train[train]\n",
        "    label_train_ = label_train[train]\n",
        "    features_test_ = features_train[test]\n",
        "    label_test_ = label_train[test]\n",
        "\n",
        "    \n",
        "    E = 20\n",
        "    h = model.fit(\n",
        "        features_train_, label_train_,\n",
        "        validation_data=(features_test_,label_test_),\n",
        "        epochs = E,\n",
        "    )\n",
        "\n",
        "    accu.append(h.history['val_acc'])\n",
        "\n",
        "    plt.plot(range(E), h.history['acc'], label = 'Training')\n",
        "    plt.plot(range(E), h.history['val_acc'], label = 'Validation')\n",
        "    plt.legend()\n",
        "    plt.show()"
      ],
      "execution_count": 10,
      "outputs": [
        {
          "output_type": "stream",
          "text": [
            "Fold #1\n"
          ],
          "name": "stdout"
        },
        {
          "output_type": "stream",
          "text": [
            "/usr/local/lib/python3.6/dist-packages/tensorflow/python/framework/indexed_slices.py:434: UserWarning: Converting sparse IndexedSlices to a dense Tensor of unknown shape. This may consume a large amount of memory.\n",
            "  \"Converting sparse IndexedSlices to a dense Tensor of unknown shape. \"\n"
          ],
          "name": "stderr"
        },
        {
          "output_type": "stream",
          "text": [
            "Train on 30000 samples, validate on 10000 samples\n",
            "Epoch 1/20\n",
            "30000/30000 [==============================] - 5s 170us/step - loss: 0.4648 - acc: 0.7762 - val_loss: 0.3020 - val_acc: 0.8744\n",
            "Epoch 2/20\n",
            "30000/30000 [==============================] - 5s 152us/step - loss: 0.2618 - acc: 0.9041 - val_loss: 0.2808 - val_acc: 0.8850\n",
            "Epoch 3/20\n",
            "30000/30000 [==============================] - 5s 151us/step - loss: 0.2118 - acc: 0.9261 - val_loss: 0.2860 - val_acc: 0.8853\n",
            "Epoch 4/20\n",
            "30000/30000 [==============================] - 5s 155us/step - loss: 0.1828 - acc: 0.9391 - val_loss: 0.3180 - val_acc: 0.8820\n",
            "Epoch 5/20\n",
            "30000/30000 [==============================] - 5s 153us/step - loss: 0.1589 - acc: 0.9484 - val_loss: 0.3335 - val_acc: 0.8812\n",
            "Epoch 6/20\n",
            "30000/30000 [==============================] - 5s 153us/step - loss: 0.1435 - acc: 0.9541 - val_loss: 0.3539 - val_acc: 0.8785\n",
            "Epoch 7/20\n",
            "30000/30000 [==============================] - 5s 154us/step - loss: 0.1268 - acc: 0.9598 - val_loss: 0.4117 - val_acc: 0.8727\n",
            "Epoch 8/20\n",
            "30000/30000 [==============================] - 5s 152us/step - loss: 0.1144 - acc: 0.9641 - val_loss: 0.4164 - val_acc: 0.8741\n",
            "Epoch 9/20\n",
            "30000/30000 [==============================] - 4s 149us/step - loss: 0.1063 - acc: 0.9649 - val_loss: 0.4599 - val_acc: 0.8718\n",
            "Epoch 10/20\n",
            "30000/30000 [==============================] - 5s 152us/step - loss: 0.0991 - acc: 0.9666 - val_loss: 0.4789 - val_acc: 0.8715\n",
            "Epoch 11/20\n",
            "30000/30000 [==============================] - 5s 152us/step - loss: 0.0935 - acc: 0.9676 - val_loss: 0.5198 - val_acc: 0.8638\n",
            "Epoch 12/20\n",
            "30000/30000 [==============================] - 5s 156us/step - loss: 0.0837 - acc: 0.9699 - val_loss: 0.5571 - val_acc: 0.8697\n",
            "Epoch 13/20\n",
            "30000/30000 [==============================] - 5s 152us/step - loss: 0.0806 - acc: 0.9710 - val_loss: 0.5114 - val_acc: 0.8603\n",
            "Epoch 14/20\n",
            "30000/30000 [==============================] - 5s 159us/step - loss: 0.0766 - acc: 0.9712 - val_loss: 0.5593 - val_acc: 0.8681\n",
            "Epoch 15/20\n",
            "30000/30000 [==============================] - 4s 150us/step - loss: 0.0689 - acc: 0.9742 - val_loss: 0.6140 - val_acc: 0.8666\n",
            "Epoch 16/20\n",
            "30000/30000 [==============================] - 5s 151us/step - loss: 0.0674 - acc: 0.9745 - val_loss: 0.6388 - val_acc: 0.8636\n",
            "Epoch 17/20\n",
            "30000/30000 [==============================] - 4s 148us/step - loss: 0.0657 - acc: 0.9738 - val_loss: 0.6757 - val_acc: 0.8631\n",
            "Epoch 18/20\n",
            "30000/30000 [==============================] - 5s 154us/step - loss: 0.0596 - acc: 0.9760 - val_loss: 0.6357 - val_acc: 0.8646\n",
            "Epoch 19/20\n",
            "30000/30000 [==============================] - 5s 155us/step - loss: 0.0572 - acc: 0.9776 - val_loss: 0.7450 - val_acc: 0.8637\n",
            "Epoch 20/20\n",
            "30000/30000 [==============================] - 5s 152us/step - loss: 0.0553 - acc: 0.9784 - val_loss: 0.7289 - val_acc: 0.8598\n"
          ],
          "name": "stdout"
        },
        {
          "output_type": "display_data",
          "data": {
            "image/png": "[encoded data removed]",
            "text/plain": [
              "<Figure size 432x288 with 1 Axes>"
            ]
          },
          "metadata": {
            "tags": [],
            "needs_background": "light"
          }
        },
        {
          "output_type": "stream",
          "text": [
            "Fold #2\n",
            "Train on 30000 samples, validate on 10000 samples\n",
            "Epoch 1/20\n",
            "30000/30000 [==============================] - 5s 152us/step - loss: 0.1989 - acc: 0.9364 - val_loss: 0.0811 - val_acc: 0.9744\n",
            "Epoch 2/20\n",
            "30000/30000 [==============================] - 5s 155us/step - loss: 0.1579 - acc: 0.9490 - val_loss: 0.0859 - val_acc: 0.9686\n",
            "Epoch 3/20\n",
            "30000/30000 [==============================] - 5s 168us/step - loss: 0.1418 - acc: 0.9524 - val_loss: 0.0906 - val_acc: 0.9649\n",
            "Epoch 4/20\n",
            "30000/30000 [==============================] - 5s 169us/step - loss: 0.1279 - acc: 0.9559 - val_loss: 0.0977 - val_acc: 0.9591\n",
            "Epoch 5/20\n",
            "30000/30000 [==============================] - 5s 153us/step - loss: 0.1173 - acc: 0.9589 - val_loss: 0.1146 - val_acc: 0.9508\n",
            "Epoch 6/20\n",
            "30000/30000 [==============================] - 5s 154us/step - loss: 0.1057 - acc: 0.9625 - val_loss: 0.1358 - val_acc: 0.9397\n",
            "Epoch 7/20\n",
            "30000/30000 [==============================] - 5s 155us/step - loss: 0.1016 - acc: 0.9635 - val_loss: 0.1418 - val_acc: 0.9418\n",
            "Epoch 8/20\n",
            "30000/30000 [==============================] - 5s 153us/step - loss: 0.0915 - acc: 0.9668 - val_loss: 0.1671 - val_acc: 0.9383\n",
            "Epoch 9/20\n",
            "30000/30000 [==============================] - 5s 153us/step - loss: 0.0876 - acc: 0.9672 - val_loss: 0.1667 - val_acc: 0.9378\n",
            "Epoch 10/20\n",
            "30000/30000 [==============================] - 5s 155us/step - loss: 0.0834 - acc: 0.9685 - val_loss: 0.1843 - val_acc: 0.9340\n",
            "Epoch 11/20\n",
            "30000/30000 [==============================] - 5s 150us/step - loss: 0.0764 - acc: 0.9700 - val_loss: 0.2026 - val_acc: 0.9346\n",
            "Epoch 12/20\n",
            "30000/30000 [==============================] - 5s 154us/step - loss: 0.0720 - acc: 0.9711 - val_loss: 0.2371 - val_acc: 0.9214\n",
            "Epoch 13/20\n",
            "30000/30000 [==============================] - 5s 152us/step - loss: 0.0704 - acc: 0.9713 - val_loss: 0.2268 - val_acc: 0.9213\n",
            "Epoch 14/20\n",
            "30000/30000 [==============================] - 5s 153us/step - loss: 0.0664 - acc: 0.9726 - val_loss: 0.2437 - val_acc: 0.9256\n",
            "Epoch 15/20\n",
            "30000/30000 [==============================] - 5s 159us/step - loss: 0.0651 - acc: 0.9720 - val_loss: 0.2487 - val_acc: 0.9226\n",
            "Epoch 16/20\n",
            "30000/30000 [==============================] - 5s 156us/step - loss: 0.0618 - acc: 0.9736 - val_loss: 0.2525 - val_acc: 0.9184\n",
            "Epoch 17/20\n",
            "30000/30000 [==============================] - 5s 154us/step - loss: 0.0605 - acc: 0.9739 - val_loss: 0.2728 - val_acc: 0.9224\n",
            "Epoch 18/20\n",
            "30000/30000 [==============================] - 5s 151us/step - loss: 0.0568 - acc: 0.9750 - val_loss: 0.2906 - val_acc: 0.9181\n",
            "Epoch 19/20\n",
            "30000/30000 [==============================] - 5s 155us/step - loss: 0.0577 - acc: 0.9743 - val_loss: 0.3072 - val_acc: 0.9179\n",
            "Epoch 20/20\n",
            "30000/30000 [==============================] - 5s 154us/step - loss: 0.0565 - acc: 0.9742 - val_loss: 0.2948 - val_acc: 0.9141\n"
          ],
          "name": "stdout"
        },
        {
          "output_type": "display_data",
          "data": {
            "image/png": "[encoded data removed]",
            "text/plain": [
              "<Figure size 432x288 with 1 Axes>"
            ]
          },
          "metadata": {
            "tags": [],
            "needs_background": "light"
          }
        },
        {
          "output_type": "stream",
          "text": [
            "Fold #3\n",
            "Train on 30000 samples, validate on 10000 samples\n",
            "Epoch 1/20\n",
            "30000/30000 [==============================] - 5s 151us/step - loss: 0.1332 - acc: 0.9481 - val_loss: 0.0507 - val_acc: 0.9833\n",
            "Epoch 2/20\n",
            "30000/30000 [==============================] - 4s 149us/step - loss: 0.1022 - acc: 0.9590 - val_loss: 0.0544 - val_acc: 0.9789\n",
            "Epoch 3/20\n",
            "30000/30000 [==============================] - 5s 154us/step - loss: 0.0900 - acc: 0.9629 - val_loss: 0.0605 - val_acc: 0.9743\n",
            "Epoch 4/20\n",
            "30000/30000 [==============================] - 5s 154us/step - loss: 0.0819 - acc: 0.9653 - val_loss: 0.0601 - val_acc: 0.9765\n",
            "Epoch 5/20\n",
            "30000/30000 [==============================] - 4s 150us/step - loss: 0.0773 - acc: 0.9657 - val_loss: 0.0701 - val_acc: 0.9712\n",
            "Epoch 6/20\n",
            "30000/30000 [==============================] - 4s 149us/step - loss: 0.0734 - acc: 0.9672 - val_loss: 0.0839 - val_acc: 0.9678\n",
            "Epoch 7/20\n",
            "30000/30000 [==============================] - 5s 160us/step - loss: 0.0693 - acc: 0.9679 - val_loss: 0.0951 - val_acc: 0.9647\n",
            "Epoch 8/20\n",
            "30000/30000 [==============================] - 5s 154us/step - loss: 0.0661 - acc: 0.9698 - val_loss: 0.1154 - val_acc: 0.9535\n",
            "Epoch 9/20\n",
            "30000/30000 [==============================] - 5s 156us/step - loss: 0.0646 - acc: 0.9699 - val_loss: 0.1317 - val_acc: 0.9488\n",
            "Epoch 10/20\n",
            "30000/30000 [==============================] - 5s 154us/step - loss: 0.0624 - acc: 0.9712 - val_loss: 0.1301 - val_acc: 0.9583\n",
            "Epoch 11/20\n",
            "30000/30000 [==============================] - 5s 180us/step - loss: 0.0587 - acc: 0.9719 - val_loss: 0.1489 - val_acc: 0.9552\n",
            "Epoch 12/20\n",
            "30000/30000 [==============================] - 5s 160us/step - loss: 0.0585 - acc: 0.9716 - val_loss: 0.1557 - val_acc: 0.9520\n",
            "Epoch 13/20\n",
            "30000/30000 [==============================] - 5s 154us/step - loss: 0.0574 - acc: 0.9707 - val_loss: 0.1549 - val_acc: 0.9419\n",
            "Epoch 14/20\n",
            "30000/30000 [==============================] - 5s 152us/step - loss: 0.0577 - acc: 0.9717 - val_loss: 0.1806 - val_acc: 0.9413\n",
            "Epoch 15/20\n",
            "30000/30000 [==============================] - 5s 150us/step - loss: 0.0556 - acc: 0.9722 - val_loss: 0.1911 - val_acc: 0.9485\n",
            "Epoch 16/20\n",
            "30000/30000 [==============================] - 5s 152us/step - loss: 0.0563 - acc: 0.9715 - val_loss: 0.1985 - val_acc: 0.9414\n",
            "Epoch 17/20\n",
            "30000/30000 [==============================] - 5s 150us/step - loss: 0.0544 - acc: 0.9723 - val_loss: 0.1961 - val_acc: 0.9385\n",
            "Epoch 18/20\n",
            "30000/30000 [==============================] - 5s 151us/step - loss: 0.0516 - acc: 0.9733 - val_loss: 0.2046 - val_acc: 0.9390\n",
            "Epoch 19/20\n",
            "30000/30000 [==============================] - 5s 157us/step - loss: 0.0512 - acc: 0.9743 - val_loss: 0.2156 - val_acc: 0.9351\n",
            "Epoch 20/20\n",
            "30000/30000 [==============================] - 5s 153us/step - loss: 0.0514 - acc: 0.9739 - val_loss: 0.2512 - val_acc: 0.9346\n"
          ],
          "name": "stdout"
        },
        {
          "output_type": "display_data",
          "data": {
            "image/png": "[encoded data removed]",
            "text/plain": [
              "<Figure size 432x288 with 1 Axes>"
            ]
          },
          "metadata": {
            "tags": [],
            "needs_background": "light"
          }
        },
        {
          "output_type": "stream",
          "text": [
            "Fold #4\n",
            "Train on 30000 samples, validate on 10000 samples\n",
            "Epoch 1/20\n",
            "30000/30000 [==============================] - 5s 153us/step - loss: 0.1157 - acc: 0.9545 - val_loss: 0.0362 - val_acc: 0.9818\n",
            "Epoch 2/20\n",
            "30000/30000 [==============================] - 5s 155us/step - loss: 0.0827 - acc: 0.9644 - val_loss: 0.0355 - val_acc: 0.9836\n",
            "Epoch 3/20\n",
            "30000/30000 [==============================] - 5s 159us/step - loss: 0.0722 - acc: 0.9666 - val_loss: 0.0410 - val_acc: 0.9805\n",
            "Epoch 4/20\n",
            "30000/30000 [==============================] - 5s 158us/step - loss: 0.0661 - acc: 0.9681 - val_loss: 0.0513 - val_acc: 0.9751\n",
            "Epoch 5/20\n",
            "30000/30000 [==============================] - 5s 160us/step - loss: 0.0648 - acc: 0.9687 - val_loss: 0.0556 - val_acc: 0.9760\n",
            "Epoch 6/20\n",
            "30000/30000 [==============================] - 5s 155us/step - loss: 0.0618 - acc: 0.9692 - val_loss: 0.0711 - val_acc: 0.9699\n",
            "Epoch 7/20\n",
            "30000/30000 [==============================] - 5s 154us/step - loss: 0.0579 - acc: 0.9706 - val_loss: 0.0870 - val_acc: 0.9669\n",
            "Epoch 8/20\n",
            "30000/30000 [==============================] - 5s 161us/step - loss: 0.0578 - acc: 0.9710 - val_loss: 0.0759 - val_acc: 0.9699\n",
            "Epoch 9/20\n",
            "30000/30000 [==============================] - 5s 161us/step - loss: 0.0543 - acc: 0.9722 - val_loss: 0.0843 - val_acc: 0.9664\n",
            "Epoch 10/20\n",
            "30000/30000 [==============================] - 5s 160us/step - loss: 0.0537 - acc: 0.9725 - val_loss: 0.0943 - val_acc: 0.9579\n",
            "Epoch 11/20\n",
            "30000/30000 [==============================] - 5s 162us/step - loss: 0.0526 - acc: 0.9730 - val_loss: 0.1002 - val_acc: 0.9612\n",
            "Epoch 12/20\n",
            "30000/30000 [==============================] - 5s 161us/step - loss: 0.0555 - acc: 0.9729 - val_loss: 0.1194 - val_acc: 0.9548\n",
            "Epoch 13/20\n",
            "30000/30000 [==============================] - 5s 158us/step - loss: 0.0530 - acc: 0.9731 - val_loss: 0.1259 - val_acc: 0.9587\n",
            "Epoch 14/20\n",
            "30000/30000 [==============================] - 5s 162us/step - loss: 0.0524 - acc: 0.9726 - val_loss: 0.1263 - val_acc: 0.9579\n",
            "Epoch 15/20\n",
            "30000/30000 [==============================] - 5s 160us/step - loss: 0.0508 - acc: 0.9737 - val_loss: 0.1526 - val_acc: 0.9513\n",
            "Epoch 16/20\n",
            "30000/30000 [==============================] - 5s 160us/step - loss: 0.0521 - acc: 0.9729 - val_loss: 0.1792 - val_acc: 0.9442\n",
            "Epoch 17/20\n",
            "30000/30000 [==============================] - 5s 162us/step - loss: 0.0518 - acc: 0.9734 - val_loss: 0.1656 - val_acc: 0.9488\n",
            "Epoch 18/20\n",
            "30000/30000 [==============================] - 5s 160us/step - loss: 0.0489 - acc: 0.9744 - val_loss: 0.1941 - val_acc: 0.9472\n",
            "Epoch 19/20\n",
            "30000/30000 [==============================] - 5s 164us/step - loss: 0.0522 - acc: 0.9725 - val_loss: 0.1980 - val_acc: 0.9431\n",
            "Epoch 20/20\n",
            "30000/30000 [==============================] - 5s 160us/step - loss: 0.0502 - acc: 0.9745 - val_loss: 0.1876 - val_acc: 0.9465\n"
          ],
          "name": "stdout"
        },
        {
          "output_type": "display_data",
          "data": {
            "image/png": "[encoded data removed]",
            "text/plain": [
              "<Figure size 432x288 with 1 Axes>"
            ]
          },
          "metadata": {
            "tags": [],
            "needs_background": "light"
          }
        }
      ]
    },
    {
      "cell_type": "code",
      "metadata": {
        "id": "SEQtFQC7UZH3",
        "colab_type": "code",
        "colab": {
          "base_uri": "https://localhost:8080/",
          "height": 35
        },
        "outputId": "6054a6a0-3ebd-4886-c08f-c22ef1435663"
      },
      "source": [
        "len = 0\n",
        "sum = 0.0\n",
        "for i in accu:\n",
        "  sum += i[0]\n",
        "  len+=1\n",
        "\n",
        "print(\"{} Fold Accuracy : \".format(fold_num) , sum/len)\n",
        "\n"
      ],
      "execution_count": 11,
      "outputs": [
        {
          "output_type": "stream",
          "text": [
            "4 Fold Accuracy :  0.9534749984741211\n"
          ],
          "name": "stdout"
        }
      ]
    },
    {
      "cell_type": "code",
      "metadata": {
        "id": "QGBCbjARoHGP",
        "colab_type": "code",
        "outputId": "78406843-82ee-4b64-c747-ae3bfe11e638",
        "colab": {
          "base_uri": "https://localhost:8080/",
          "height": 54
        }
      },
      "source": [
        "loss, acc = model.evaluate(features_test, label_test)\n",
        "print('Test set accuracy: ', acc * 100)"
      ],
      "execution_count": 14,
      "outputs": [
        {
          "output_type": "stream",
          "text": [
            "10000/10000 [==============================] - 0s 37us/step\n",
            "Test set accuracy:  86.2600028514862\n"
          ],
          "name": "stdout"
        }
      ]
    },
    {
      "cell_type": "code",
      "metadata": {
        "id": "wTfW3mZ3Ybw6",
        "colab_type": "code",
        "colab": {
          "base_uri": "https://localhost:8080/",
          "height": 221
        },
        "outputId": "8ef47071-28f9-41ab-c63e-020bdddb50ae"
      },
      "source": [
        "def encode (review):\n",
        "  new_review = []\n",
        "  for i in review:\n",
        "    new_review.append(word_index[i])\n",
        "  return new_review\n",
        "\n",
        "new_rev = \"good movie\"\n",
        "test = encode(new_rev.split())\n",
        "test2 = np.array(test)\n",
        "tryf = decode(features[99])\n",
        "print(test)\n",
        "print(tryf)\n",
        "\n",
        "prediction = model.predict(features[0])\n",
        "fp = prediction.argmax(axis=-1)\n",
        "print(fp)\n",
        "print(label[0])"
      ],
      "execution_count": 15,
      "outputs": [
        {
          "output_type": "stream",
          "text": [
            "[49, 17]\n",
            "the ex turner hit could fact characters how br an of powerful with time enjoy but as on of see highly lot with of baby stereotypes lock fun or babes of ride and as characters there even interest opening is road and in is fact on even without even love to even brought other is road and grandmother and it is very shows not all it her generation to sweet this as for if serious more than is again hour for than absolutely in at makes where's of listen fact must characters to even by mediocre this of night was between for as on with hair appeared to was nothing political clearly to station that me will decide in 16 captured killed can as on what have couldn't was these does when have off performance porn series of see roles br piece like story same as on which trapped hero to exactly as it in have ex turner known minutes fact characters as on find lucky few just previously respective achieved\n",
            "[0 0 0 0 0 0 0 0 0 0 0 0 0 0 0 0 0 0 0 0 0 0 0 0 0 0 0 0 0 0 0 0 0 0 0 0 0\n",
            " 0 0 0 0 0 0 0 0 0 0 0 0 0 0 0 0 0 0 0 0 0 0 0 0 0 0 0 0 0 0 0 0 0 0 0 0 0\n",
            " 0 0 0 0 0 0 0 0 0 0 0 0 0 0 0 0 0 0 0 0 0 0 0 0 0 0 0 0 0 0 0 0 0 0 0 0 0\n",
            " 0 0 0 0 0 0 0 0 0 0 0 0 0 0 0 0 0 0 0 0 0 0 0 0 0 0 0 0 0 0 0 0 0 0 0 0 0\n",
            " 0 0 0 0 0 0 0 0 0 0 0 0 0 0 0 0 0 0 0 0 0 0 0 0 0 0 0 0 0 0 0 0 0 0 0 0 0\n",
            " 0 0 0 0 0 0 0 0 0 0 0 0 0 0 0 0 0 0 0 0 0 0 0 0 0 0 0 0 0 0 0 0 0 0 0 0 0\n",
            " 0 0 0 0 0 0 0 0 0 0 0 0 0 0 0 0 0 0 0 0 0 0 0 0 0 0 0 0 0 0 0 0 0 0]\n",
            "1\n"
          ],
          "name": "stdout"
        }
      ]
    },
    {
      "cell_type": "code",
      "metadata": {
        "id": "3O4sh47IoHGL",
        "colab_type": "code",
        "colab": {}
      },
      "source": [
        "\n",
        "\n"
      ],
      "execution_count": 0,
      "outputs": []
    },
    {
      "cell_type": "code",
      "metadata": {
        "id": "FC-UA0M2ZYkw",
        "colab_type": "code",
        "colab": {}
      },
      "source": [
        ""
      ],
      "execution_count": 0,
      "outputs": []
    },
    {
      "cell_type": "code",
      "metadata": {
        "id": "nyce54YPoHGX",
        "colab_type": "code",
        "colab": {}
      },
      "source": [
        "\n"
      ],
      "execution_count": 0,
      "outputs": []
    }
  ]
}